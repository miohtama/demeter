{
 "cells": [
  {
   "cell_type": "markdown",
   "metadata": {
    "collapsed": false,
    "jupyter": {
     "outputs_hidden": false
    }
   },
   "source": [
    "# No Provision\n",
    "\n",
    "In this strategy, half of the portfolio is in token zero, and the other half is in token one. The assets will not be deposited in any pool. This simple strategy is a good benchmark because it shows how much the value of the tokens increased. Since no liquidity was provided, there is no impermanent loss of earned fees. This strategy will be our reference strategy, which we will take as a baseline."
   ]
  },
  {
   "cell_type": "markdown",
   "metadata": {
    "collapsed": false,
    "jupyter": {
     "outputs_hidden": false
    }
   },
   "source": [
    "Import code dependencies"
   ]
  },
  {
   "cell_type": "code",
   "execution_count": 1,
   "metadata": {
    "ExecuteTime": {
     "end_time": "2023-11-06T03:25:25.355149Z",
     "start_time": "2023-11-06T03:25:23.841795Z"
    },
    "collapsed": false,
    "jupyter": {
     "outputs_hidden": false
    }
   },
   "outputs": [],
   "source": [
    "from datetime import date, datetime\n",
    "from _decimal import Decimal\n",
    "from typing import List, Dict\n",
    "import pandas as pd\n",
    "\n",
    "from demeter import TokenInfo, Actuator, Strategy, RowData, ChainType, MarketInfo, AtTimeTrigger, EvaluatorEnum\n",
    "from demeter.uniswap import UniV3Pool, UniLpMarket"
   ]
  },
  {
   "cell_type": "markdown",
   "metadata": {
    "collapsed": false,
    "jupyter": {
     "outputs_hidden": false
    }
   },
   "source": [
    "Set pandas output format"
   ]
  },
  {
   "cell_type": "code",
   "execution_count": 2,
   "metadata": {
    "ExecuteTime": {
     "end_time": "2023-11-06T03:25:25.365884Z",
     "start_time": "2023-11-06T03:25:25.358193Z"
    },
    "collapsed": false,
    "jupyter": {
     "outputs_hidden": false
    }
   },
   "outputs": [],
   "source": [
    "pd.options.display.max_columns = None\n",
    "pd.set_option(\"display.width\", 5000)"
   ]
  },
  {
   "cell_type": "markdown",
   "metadata": {
    "collapsed": false,
    "jupyter": {
     "outputs_hidden": false
    }
   },
   "source": [
    "Custom No Provision strategy with nothing in work function."
   ]
  },
  {
   "cell_type": "code",
   "execution_count": 3,
   "metadata": {
    "ExecuteTime": {
     "end_time": "2023-11-06T03:25:25.419061Z",
     "start_time": "2023-11-06T03:25:25.372250Z"
    },
    "collapsed": false,
    "jupyter": {
     "outputs_hidden": false
    }
   },
   "outputs": [],
   "source": [
    "class NoProvisionStrategy(Strategy):\n",
    "    def initialize(self):\n",
    "        \"\"\"\n",
    "        Initialize function will be called right before a backtest start.\n",
    "        You can do various things here, e.g. register a trigger, or add a simple moving average line.\n",
    "        \"\"\"\n",
    "        new_trigger = AtTimeTrigger(  # define a new trigger\n",
    "            time=datetime(2022, 8, 20, 12, 0, 0), do=self.work  # we will make the action happen at 12:00 20/8/22\n",
    "        )  # This is a callback function, defines what to do at this time.\n",
    "        self.triggers.append(new_trigger)  # Register our trigger\n",
    "\n",
    "    def work(self, row_data: RowData):\n",
    "        \"\"\"\n",
    "        When time is up, work function will be called.\n",
    "        \"\"\"\n",
    "        pass"
   ]
  },
  {
   "cell_type": "markdown",
   "metadata": {
    "collapsed": false,
    "jupyter": {
     "outputs_hidden": false
    }
   },
   "source": [
    "Main logic to run Actuator"
   ]
  },
  {
   "cell_type": "code",
   "execution_count": 4,
   "metadata": {
    "ExecuteTime": {
     "end_time": "2023-11-06T03:25:25.549045Z",
     "start_time": "2023-11-06T03:25:25.394365Z"
    },
    "collapsed": false,
    "jupyter": {
     "outputs_hidden": false
    }
   },
   "outputs": [],
   "source": [
    "# Declare a token, and it's name will be used as unit of amounts.\n",
    "usdc = TokenInfo(name=\"usdc\", decimal=6)  # declare token usdc\n",
    "eth = TokenInfo(name=\"eth\", decimal=18)  # declare token eth\n",
    "# Declare an Uniswap V3 pool. We will set the parameters according to the real pool on chain.\n",
    "pool = UniV3Pool(token0=usdc, token1=eth, fee=0.05, base_token=usdc)\n",
    "\n",
    "# Declare a market key, which will be used to find the corresponding market in broker\n",
    "market_key = MarketInfo(\"market1\")\n",
    "# Declare the market,\n",
    "market = UniLpMarket(market_key, pool)  # uni_market:UniLpMarket, positions: 0, total liquidity: 0\n",
    "# load data for market. those data is prepared by download tool\n",
    "market.data_path = \"../data\"  # set data path\n",
    "market.load_data(\n",
    "    chain=ChainType.polygon.name,  # load data\n",
    "    contract_addr=\"0x45dda9cb7c25131df268515131f647d726f50608\",\n",
    "    start_date=date(2023, 8, 15),\n",
    "    end_date=date(2023, 8, 15),\n",
    ")\n",
    "\n",
    "# Declare the Actuator, which controls the whole process\n",
    "actuator = Actuator()  # declare actuator, Demeter Actuator (broker:assets: ; markets: )\n",
    "# add market to broker\n",
    "actuator.broker.add_market(market)\n",
    "# Initial some fund to broker.\n",
    "actuator.broker.set_balance(usdc, 10000)\n",
    "actuator.broker.set_balance(eth, 10)\n",
    "# Set strategy to actuator\n",
    "actuator.strategy = NoProvisionStrategy()  # set strategy to actuator\n",
    "# Set price. Those price will be used in all markets.\n",
    "# Usually, you will have to find the price list from outer source.\n",
    "# Luckily, uniswap pool data contains price information. So UniLpMarket provides a function to retrieve price list.\n",
    "actuator.set_price(market.get_price_from_data())\n",
    "# run test, If you use default parameter, final fund status will be printed in console.\n",
    "\n",
    "# actuator.run()"
   ]
  },
  {
   "cell_type": "markdown",
   "metadata": {
    "collapsed": false,
    "jupyter": {
     "outputs_hidden": false
    }
   },
   "source": [
    "Run actuator with evaluators and save result to files"
   ]
  },
  {
   "cell_type": "code",
   "execution_count": 5,
   "metadata": {
    "ExecuteTime": {
     "end_time": "2023-11-06T03:25:27.256035Z",
     "start_time": "2023-11-06T03:25:25.556395Z"
    },
    "collapsed": false,
    "jupyter": {
     "outputs_hidden": false
    }
   },
   "outputs": [
    {
     "name": "stderr",
     "output_type": "stream",
     "text": [
      "2023-11-06 11:25:25,553 - INFO - init strategy...\n",
      "2023-11-06 11:25:25,557 - INFO - start main loop...\n",
      "100%|███████████████████████████████████████████████████████████████████████████████████████████████████████████| 1440/1440 [00:01<00:00, 1027.96it/s]\n",
      "2023-11-06 11:25:27,008 - INFO - main loop finished\n",
      "2023-11-06 11:25:27,032 - INFO - Start calculate evaluating indicator...\n",
      "/Users/florije/PycharmProjects/demeter/demeter/core/evaluating_indicator.py:85: SettingWithCopyWarning: \n",
      "A value is trying to be set on a copy of a slice from a DataFrame\n",
      "\n",
      "See the caveats in the documentation: https://pandas.pydata.org/pandas-docs/stable/user_guide/indexing.html#returning-a-view-versus-a-copy\n",
      "  fee_df.sort_values(by=[\"market1_base_uncollected\", \"market1_quote_uncollected\"], ascending=[False, False], inplace=True)\n",
      "2023-11-06 11:25:27,059 - INFO - Evaluating indicator has finished it's job.\n",
      "2023-11-06 11:25:27,060 - INFO - Print actuator summary\n",
      "2023-11-06 11:25:27,075 - INFO - Backtesting finished, execute time 1.5237629413604736s\n",
      "2023-11-06 11:25:27,101 - INFO - files have saved to ./result/backtest-20231106-112527.account.csv,./result/backtest-20231106-112527.action.json,./result/backtest-20231106-112527.action.pkl\n"
     ]
    },
    {
     "name": "stdout",
     "output_type": "stream",
     "text": [
      "\u001B[7;31mFinal account status                              \u001B[0m\n",
      "\u001B[7;35mToken balance in broker       \u001B[0m\n",
      "\u001B[34mUSDC      \u001B[0m:10000                    \u001B[34mETH       \u001B[0m:10                       \n",
      "\u001B[7;35mPosition value in markets     \u001B[0m\n",
      "\u001B[4;33mmarket1(UniLpMarket)\u001B[0m\n",
      "\u001B[34mtoken0    \u001B[0m:USDC                     \u001B[34mtoken1    \u001B[0m:ETH                      \u001B[34mfee       \u001B[0m:0.0500                   \u001B[34mis 0 base \u001B[0m:True                     \n",
      "\u001B[34mpositions \u001B[0m\n",
      "Empty DataFrame\n",
      "\n",
      "\n",
      "\u001B[7;31mAccount balance history                           \u001B[0m\n",
      "                                         net_value   USDC ETH market1_net_value market1_base_uncollected market1_quote_uncollected market1_base_in_position market1_quote_in_position  market1_position_count\n",
      "2023-08-15 00:00:00  28436.94418788503400887972931  10000  10             0E-24                        0                         0                        0                         0                       0\n",
      "2023-08-15 00:01:00  28436.94418788503400887972931  10000  10             0E-24                        0                         0                        0                         0                       0\n",
      "2023-08-15 00:02:00  28436.94418788503400887972931  10000  10             0E-24                        0                         0                        0                         0                       0\n",
      "2023-08-15 00:03:00  28436.94418788503400887972931  10000  10             0E-24                        0                         0                        0                         0                       0\n",
      "2023-08-15 00:04:00  28436.94418788503400887972931  10000  10             0E-24                        0                         0                        0                         0                       0\n",
      "...                                            ...    ...  ..               ...                      ...                       ...                      ...                       ...                     ...\n",
      "2023-08-15 23:55:00  28273.59154955741839020948350  10000  10             0E-24                        0                         0                        0                         0                       0\n",
      "2023-08-15 23:56:00  28273.59154955741839020948350  10000  10             0E-24                        0                         0                        0                         0                       0\n",
      "2023-08-15 23:57:00  28273.59154955741839020948350  10000  10             0E-24                        0                         0                        0                         0                       0\n",
      "2023-08-15 23:58:00  28269.93737938216816275525083  10000  10             0E-24                        0                         0                        0                         0                       0\n",
      "2023-08-15 23:59:00  28269.93737938216816275525083  10000  10             0E-24                        0                         0                        0                         0                       0\n",
      "\n",
      "[1440 rows x 9 columns]\n",
      "Evaluating indicator\n",
      "max_draw_down:0.009909272192187658177037813642; annualized_returns:-0.8835066543263059810270452314; net_value:0.9941271183218759627511304630; profit:-167.00680850286584612447848; net_value_up_down_rate:-0.005872881678124037248869536955; eth_up_down_rate:-0.009058269461628379424748143487; position_fee_profit:0E-24; position_fee_annualized_returns:0; position_market_time_rate:0\n"
     ]
    },
    {
     "data": {
      "text/plain": [
       "['./result/backtest-20231106-112527.account.csv',\n",
       " './result/backtest-20231106-112527.action.json',\n",
       " './result/backtest-20231106-112527.action.pkl']"
      ]
     },
     "execution_count": 5,
     "metadata": {},
     "output_type": "execute_result"
    }
   ],
   "source": [
    "actuator.run(evaluator=[\n",
    "        EvaluatorEnum.max_draw_down,\n",
    "        EvaluatorEnum.annualized_returns,\n",
    "        EvaluatorEnum.net_value,\n",
    "        EvaluatorEnum.profit,\n",
    "        EvaluatorEnum.net_value_up_down_rate,\n",
    "        EvaluatorEnum.eth_up_down_rate,\n",
    "        EvaluatorEnum.position_fee_profit,\n",
    "        EvaluatorEnum.position_fee_annualized_returns,\n",
    "        EvaluatorEnum.position_market_time_rate,\n",
    "    ])\n",
    "evaluating_result: Dict[EvaluatorEnum, Decimal] = actuator.evaluating_indicator\n",
    "\n",
    "actuator.save_result(\n",
    "    path=\"./result\",  # save path\n",
    "    account=True,  # save account status list as a csv file\n",
    "    actions=True,  # save actions as a json file and a pickle file\n",
    ")"
   ]
  }
 ],
 "metadata": {
  "kernelspec": {
   "display_name": "Python 3 (ipykernel)",
   "language": "python",
   "name": "python3"
  },
  "language_info": {
   "codemirror_mode": {
    "name": "ipython",
    "version": 3
   },
   "file_extension": ".py",
   "mimetype": "text/x-python",
   "name": "python",
   "nbconvert_exporter": "python",
   "pygments_lexer": "ipython3",
   "version": "3.10.1"
  }
 },
 "nbformat": 4,
 "nbformat_minor": 4
}
