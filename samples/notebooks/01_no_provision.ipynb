{
 "cells": [
  {
   "cell_type": "markdown",
   "source": [
    "# No Provision\n",
    "\n",
    "In this strategy, half of the portfolio is in token zero, and the other half is in token one. The assets will not be deposited in any pool. This simple strategy is a good benchmark because it shows how much the value of the tokens increased. Since no liquidity was provided, there is no impermanent loss of earned fees. This strategy will be our reference strategy, which we will take as a baseline."
   ],
   "metadata": {
    "collapsed": false
   }
  },
  {
   "cell_type": "code",
   "execution_count": 1,
   "outputs": [],
   "source": [
    "from datetime import date, datetime\n",
    "\n",
    "import pandas as pd\n",
    "\n",
    "from demeter import TokenInfo, Actuator, Strategy, RowData, ChainType, MarketInfo, AtTimeTrigger\n",
    "from demeter.uniswap import UniV3Pool, UniLpMarket"
   ],
   "metadata": {
    "collapsed": false,
    "ExecuteTime": {
     "end_time": "2023-11-02T00:23:20.374152Z",
     "start_time": "2023-11-02T00:23:18.150094Z"
    }
   }
  },
  {
   "cell_type": "code",
   "execution_count": 2,
   "outputs": [],
   "source": [
    "pd.options.display.max_columns = None\n",
    "pd.set_option(\"display.width\", 5000)"
   ],
   "metadata": {
    "collapsed": false,
    "ExecuteTime": {
     "end_time": "2023-11-02T00:23:20.386815Z",
     "start_time": "2023-11-02T00:23:20.385805Z"
    }
   }
  },
  {
   "cell_type": "code",
   "execution_count": 3,
   "outputs": [],
   "source": [
    "class MyFirstStrategy(Strategy):\n",
    "    def initialize(self):\n",
    "        \"\"\"\n",
    "        Initialize function will be called right before a backtest start.\n",
    "        You can do various things here, e.g. register a trigger, or add a simple moving average line.\n",
    "        \"\"\"\n",
    "        new_trigger = AtTimeTrigger(  # define a new trigger\n",
    "            time=datetime(2022, 8, 20, 12, 0, 0), do=self.work  # we will make the action happen at 12:00 20/8/22\n",
    "        )  # This is a callback function, defines what to do at this time.\n",
    "        self.triggers.append(new_trigger)  # Register our trigger\n",
    "\n",
    "    def work(self, row_data: RowData):\n",
    "        \"\"\"\n",
    "        When time is up, work function will be called.\n",
    "        \"\"\"\n",
    "        lp_market: UniLpMarket = self.markets[market_key]  # pick our market.\n",
    "        new_position, amount0_used, amount1_used, liquidity = lp_market.add_liquidity(1000, 4000)  # add liquidity\n",
    "        pass"
   ],
   "metadata": {
    "collapsed": false,
    "ExecuteTime": {
     "end_time": "2023-11-02T00:23:20.399617Z",
     "start_time": "2023-11-02T00:23:20.390681Z"
    }
   }
  },
  {
   "cell_type": "code",
   "execution_count": 4,
   "outputs": [
    {
     "name": "stderr",
     "output_type": "stream",
     "text": [
      "2023-11-02 08:23:20,642 - INFO - init strategy...\n",
      "2023-11-02 08:23:20,668 - INFO - start main loop...\n",
      "100%|███████████████████████████████████████████████████████████████████████████████████████████████████████████| 1440/1440 [00:01<00:00, 1123.78it/s]\n",
      "2023-11-02 08:23:22,107 - INFO - main loop finished\n",
      "2023-11-02 08:23:22,125 - INFO - Print actuator summary\n",
      "2023-11-02 08:23:22,139 - INFO - Backtesting finished, execute time 1.4986119270324707s\n"
     ]
    },
    {
     "name": "stdout",
     "output_type": "stream",
     "text": [
      "\u001B[7;31mBroker                                            \u001B[0m\n",
      "\u001B[7;35mAsset amounts                 \u001B[0m\n",
      "\u001B[34mUSDC      \u001B[0m:10000                    \u001B[34mETH       \u001B[0m:10                       \n",
      "\u001B[7;35mMarkets                       \u001B[0m\n",
      "\u001B[4;33mU2EthPool(UniLpMarket)\u001B[0m\n",
      "\u001B[34mtoken0    \u001B[0m:USDC                     \u001B[34mtoken1    \u001B[0m:ETH                      \u001B[34mfee       \u001B[0m:0.0500                   \u001B[34mis 0 base \u001B[0m:True                     \n",
      "\u001B[34mpositions \u001B[0m\n",
      "Empty DataFrame\n",
      "\n",
      "\n",
      "\u001B[7;31mAccount Status                                    \u001B[0m\n",
      "                                         net_value   USDC ETH U2EthPool_net_value U2EthPool_base_uncollected U2EthPool_quote_uncollected U2EthPool_base_in_position U2EthPool_quote_in_position  U2EthPool_position_count\n",
      "2023-08-15 00:00:00  28436.94418788503400887972931  10000  10               0E-24                          0                           0                          0                           0                         0\n",
      "2023-08-15 00:01:00  28436.94418788503400887972931  10000  10               0E-24                          0                           0                          0                           0                         0\n",
      "2023-08-15 00:02:00  28436.94418788503400887972931  10000  10               0E-24                          0                           0                          0                           0                         0\n",
      "2023-08-15 00:03:00  28436.94418788503400887972931  10000  10               0E-24                          0                           0                          0                           0                         0\n",
      "2023-08-15 00:04:00  28436.94418788503400887972931  10000  10               0E-24                          0                           0                          0                           0                         0\n",
      "...                                            ...    ...  ..                 ...                        ...                         ...                        ...                         ...                       ...\n",
      "2023-08-15 23:55:00  28273.59154955741839020948350  10000  10               0E-24                          0                           0                          0                           0                         0\n",
      "2023-08-15 23:56:00  28273.59154955741839020948350  10000  10               0E-24                          0                           0                          0                           0                         0\n",
      "2023-08-15 23:57:00  28273.59154955741839020948350  10000  10               0E-24                          0                           0                          0                           0                         0\n",
      "2023-08-15 23:58:00  28269.93737938216816275525083  10000  10               0E-24                          0                           0                          0                           0                         0\n",
      "2023-08-15 23:59:00  28269.93737938216816275525083  10000  10               0E-24                          0                           0                          0                           0                         0\n",
      "\n",
      "[1440 rows x 9 columns]\n"
     ]
    }
   ],
   "source": [
    "# Declare a token, and it's name will be used as unit of amounts.\n",
    "usdc = TokenInfo(name=\"usdc\", decimal=6)  # declare token usdc\n",
    "eth = TokenInfo(name=\"eth\", decimal=18)  # declare token eth\n",
    "# Declare an Uniswap V3 pool. We will set the parameters according to the real pool on chain.\n",
    "pool = UniV3Pool(token0=usdc, token1=eth, fee=0.05, base_token=usdc)\n",
    "\n",
    "# Declare a market key, which will be used to find the corresponding market in broker\n",
    "market_key = MarketInfo(\"U2EthPool\")\n",
    "# Declare the market,\n",
    "market = UniLpMarket(market_key, pool)  # uni_market:UniLpMarket, positions: 0, total liquidity: 0\n",
    "# load data for market. those data is prepared by download tool\n",
    "market.data_path = \"../data\"  # set data path\n",
    "market.load_data(\n",
    "    chain=ChainType.polygon.name,  # load data\n",
    "    contract_addr=\"0x45dda9cb7c25131df268515131f647d726f50608\",\n",
    "    start_date=date(2023, 8, 15),\n",
    "    end_date=date(2023, 8, 15),\n",
    ")\n",
    "\n",
    "# Declare the Actuator, which controls the whole process\n",
    "actuator = Actuator()  # declare actuator, Demeter Actuator (broker:assets: ; markets: )\n",
    "# add market to broker\n",
    "actuator.broker.add_market(market)\n",
    "# Initial some fund to broker.\n",
    "actuator.broker.set_balance(usdc, 10000)\n",
    "actuator.broker.set_balance(eth, 10)\n",
    "# Set strategy to actuator\n",
    "actuator.strategy = MyFirstStrategy()  # set strategy to actuator\n",
    "# Set price. Those price will be used in all markets.\n",
    "# Usually, you will have to find the price list from outer source.\n",
    "# Luckily, uniswap pool data contains price information. So UniLpMarket provides a function to retrieve price list.\n",
    "actuator.set_price(market.get_price_from_data())\n",
    "# run test, If you use default parameter, final fund status will be printed in console.\n",
    "\n",
    "actuator.run()"
   ],
   "metadata": {
    "collapsed": false,
    "ExecuteTime": {
     "end_time": "2023-11-02T00:23:22.157560Z",
     "start_time": "2023-11-02T00:23:20.428785Z"
    }
   }
  }
 ],
 "metadata": {
  "kernelspec": {
   "display_name": "Python 3",
   "language": "python",
   "name": "python3"
  },
  "language_info": {
   "codemirror_mode": {
    "name": "ipython",
    "version": 2
   },
   "file_extension": ".py",
   "mimetype": "text/x-python",
   "name": "python",
   "nbconvert_exporter": "python",
   "pygments_lexer": "ipython2",
   "version": "2.7.6"
  }
 },
 "nbformat": 4,
 "nbformat_minor": 0
}
