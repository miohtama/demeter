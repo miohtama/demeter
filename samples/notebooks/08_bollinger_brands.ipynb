{
 "cells": [
  {
   "cell_type": "markdown",
   "source": [
    "# Bollinger Bands\n",
    "This strategy combines the moving average strategy 4.9 and the volatility sized intervals strategy 4.10. We will provide liquidity inside the Bollinger Bands. These bands are made up of a lower band BOLL = pa −c·v and an upper band BOLU = pa +c·v. The liquidity position will be [pa −v·c,pa +v·c]. This strategy also has an unused leftover token."
   ],
   "metadata": {
    "collapsed": false
   }
  },
  {
   "cell_type": "code",
   "execution_count": 1,
   "outputs": [],
   "source": [
    "import math\n",
    "from datetime import date, timedelta\n",
    "\n",
    "import pandas as pd\n",
    "\n",
    "from demeter import (\n",
    "    TokenInfo,\n",
    "    Actuator,\n",
    "    Strategy,\n",
    "    ChainType,\n",
    "    PeriodTrigger,\n",
    "    realized_volatility,\n",
    "    simple_moving_average,\n",
    "    MarketInfo,\n",
    "    MarketDict,\n",
    "    RowData,\n",
    ")\n",
    "from demeter.uniswap import UniV3Pool, UniLpMarket"
   ],
   "metadata": {
    "collapsed": false,
    "ExecuteTime": {
     "end_time": "2023-11-02T07:15:14.604864Z",
     "start_time": "2023-11-02T07:15:13.487049Z"
    }
   }
  },
  {
   "cell_type": "code",
   "execution_count": 2,
   "outputs": [],
   "source": [
    "pd.options.display.max_columns = None\n",
    "pd.set_option(\"display.width\", 5000)\n",
    "c = 2"
   ],
   "metadata": {
    "collapsed": false,
    "ExecuteTime": {
     "end_time": "2023-11-02T07:15:14.620751Z",
     "start_time": "2023-11-02T07:15:14.616075Z"
    }
   }
  },
  {
   "cell_type": "code",
   "execution_count": 3,
   "outputs": [],
   "source": [
    "class AddByVolatility(Strategy):\n",
    "    \"\"\"\n",
    "    We will provide liquidity inside the Bollinger Bands.\n",
    "    These bands are made up of a lower band BOLL = pa − c · v\n",
    "    and an upper band BOLU = pa + c · v.\n",
    "    The liquidity get_position will be [pa − v · c, pa + v · c].\n",
    "\n",
    "    * pa is simple moving average\n",
    "    * c is a constant value, =2\n",
    "    * v is volatility\n",
    "\n",
    "    we will adjust liquidity every 4 hours, by remove all the liquidity, then even split all the capital into two assets,\n",
    "    and provide liquidity by the rules above.\n",
    "\n",
    "    \"\"\"\n",
    "\n",
    "    def initialize(self):\n",
    "        self.add_column(market_key, \"sma_1_day\", simple_moving_average(self.data[market_key].price, timedelta(days=1)))\n",
    "        self.add_column(market_key, \"volatility\", realized_volatility(self.data[market_key].price, timedelta(days=1), timedelta(days=1)))\n",
    "        self.triggers.append(PeriodTrigger(time_delta=timedelta(hours=4), trigger_immediately=True, do=self.work))\n",
    "        self.markets.default.even_rebalance(self.data[market_key].price[0])\n",
    "\n",
    "    def work(self, row_data: RowData):\n",
    "        lp_market: UniLpMarket = self.broker.markets[market_key]\n",
    "        lp_row_data = row_data.market_status[market_key]\n",
    "        if len(lp_market.positions) > 0:\n",
    "            lp_market.remove_all_liquidity()\n",
    "            lp_market.even_rebalance(row_data.prices[eth.name])\n",
    "        if math.isnan(lp_row_data.volatility):\n",
    "            return\n",
    "        limit = c * float(row_data.prices[eth.name]) * lp_row_data.volatility\n",
    "        lp_market.add_liquidity(lp_row_data.sma_1_day - limit, lp_row_data.sma_1_day + limit)\n"
   ],
   "metadata": {
    "collapsed": false,
    "ExecuteTime": {
     "end_time": "2023-11-02T07:15:14.644319Z",
     "start_time": "2023-11-02T07:15:14.633998Z"
    }
   }
  },
  {
   "cell_type": "code",
   "execution_count": 4,
   "outputs": [
    {
     "name": "stderr",
     "output_type": "stream",
     "text": [
      "2023-11-02 15:15:14,663 - INFO - start load files from 2023-08-13 to 2023-08-17...\n",
      "2023-11-02 15:15:14,844 - INFO - load file complete, preparing...\n",
      "2023-11-02 15:15:15,179 - INFO - data has been prepared\n",
      "2023-11-02 15:15:15,199 - INFO - init strategy...\n",
      "2023-11-02 15:15:15,380 - INFO - start main loop...\n",
      "100%|███████████████████████████████████████████████████████████████████████████████████████████████████████████| 7200/7200 [00:04<00:00, 1462.55it/s]\n",
      "2023-11-02 15:15:20,329 - INFO - main loop finished\n",
      "2023-11-02 15:15:20,380 - INFO - Print actuator summary\n",
      "2023-11-02 15:15:20,391 - INFO - Backtesting finished, execute time 5.1931493282318115s\n"
     ]
    },
    {
     "name": "stdout",
     "output_type": "stream",
     "text": [
      "\u001B[7;31mFinal account status                              \u001B[0m\n",
      "\u001B[7;35mToken balance in broker       \u001B[0m\n",
      "\u001B[34mUSDC      \u001B[0m:2426.887083367097715269579559\u001B[34mETH       \u001B[0m:0                        \n",
      "\u001B[7;35mPosition value in markets     \u001B[0m\n",
      "\u001B[4;33muni_market(UniLpMarket)\u001B[0m\n",
      "\u001B[34mtoken0    \u001B[0m:USDC                     \u001B[34mtoken1    \u001B[0m:ETH                      \u001B[34mfee       \u001B[0m:0.0500                   \u001B[34mis 0 base \u001B[0m:True                     \n",
      "\u001B[34mpositions \u001B[0m\n",
      "   lower_tick  upper_tick pending0 pending1         liquidity\n",
      "0      201205      201695        0        0  2409456952156536\n",
      "\n",
      "\u001B[7;31mAccount balance history                           \u001B[0m\n",
      "                                         net_value                           USDC                            ETH           uni_market_net_value uni_market_base_uncollected uni_market_quote_uncollected uni_market_base_in_position  uni_market_quote_in_position  uni_market_position_count\n",
      "2023-08-13 00:00:00  4998.750000000000000000000000  2498.750000000000000000000000  1.352722809207831809288437799                          0E-24                           0                            0                           0                             0                          0\n",
      "2023-08-13 00:01:00  4998.750000000000000000000000  2498.750000000000000000000000  1.352722809207831809288437799                          0E-24                           0                            0                           0                             0                          0\n",
      "2023-08-13 00:02:00  4998.750000000000000000000000  2498.750000000000000000000000  1.352722809207831809288437799                          0E-24                           0                            0                           0                             0                          0\n",
      "2023-08-13 00:03:00  4998.750000000000000000000000  2498.750000000000000000000000  1.352722809207831809288437799                          0E-24                           0                            0                           0                             0                          0\n",
      "2023-08-13 00:04:00  4998.750000000000000000000000  2498.750000000000000000000000  1.352722809207831809288437799                          0E-24                           0                            0                           0                             0                          0\n",
      "...                                            ...                            ...                            ...                            ...                         ...                          ...                         ...                           ...                        ...\n",
      "2023-08-17 23:55:00  4778.523242197156897792125638  2426.887083367097715269579559                              0  2351.636158830059182522546079                           0                            0                           0  1.39729100977967344880959454                          1\n",
      "2023-08-17 23:56:00  4778.993592945284497929221973  2426.887083367097715269579559                              0  2352.106509578186782659642414                           0                            0                           0  1.39729100977967344880959454                          1\n",
      "2023-08-17 23:57:00  4778.993592945284497929221973  2426.887083367097715269579559                              0  2352.106509578186782659642414                           0                            0                           0  1.39729100977967344880959454                          1\n",
      "2023-08-17 23:58:00  4779.464037768265231067621728  2426.887083367097715269579559                              0  2352.576954401167515798042169                           0                            0                           0  1.39729100977967344880959454                          1\n",
      "2023-08-17 23:59:00  4779.464037768265231067621728  2426.887083367097715269579559                              0  2352.576954401167515798042169                           0                            0                           0  1.39729100977967344880959454                          1\n",
      "\n",
      "[7200 rows x 9 columns]\n"
     ]
    }
   ],
   "source": [
    "usdc = TokenInfo(name=\"usdc\", decimal=6)  # declare  token0\n",
    "eth = TokenInfo(name=\"eth\", decimal=18)  # declare token1\n",
    "pool = UniV3Pool(usdc, eth, 0.05, usdc)  # declare pool\n",
    "market_key = MarketInfo(\"uni_market\")\n",
    "\n",
    "actuator = Actuator()  # declare actuator\n",
    "broker = actuator.broker\n",
    "market = UniLpMarket(market_key, pool)\n",
    "\n",
    "broker.add_market(market)\n",
    "broker.set_balance(usdc, 5000)\n",
    "broker.set_balance(eth, 0)\n",
    "\n",
    "actuator.strategy = AddByVolatility()\n",
    "\n",
    "market.data_path = \"../data\"\n",
    "market.load_data(ChainType.polygon.name, \"0x45dda9cb7c25131df268515131f647d726f50608\", date(2023, 8, 13), date(2023, 8, 17))\n",
    "actuator.set_price(market.get_price_from_data())\n",
    "actuator.run()  # run test\n"
   ],
   "metadata": {
    "collapsed": false,
    "ExecuteTime": {
     "end_time": "2023-11-02T07:15:20.400107Z",
     "start_time": "2023-11-02T07:15:14.651002Z"
    }
   }
  }
 ],
 "metadata": {
  "kernelspec": {
   "display_name": "Python 3",
   "language": "python",
   "name": "python3"
  },
  "language_info": {
   "codemirror_mode": {
    "name": "ipython",
    "version": 2
   },
   "file_extension": ".py",
   "mimetype": "text/x-python",
   "name": "python",
   "nbconvert_exporter": "python",
   "pygments_lexer": "ipython2",
   "version": "2.7.6"
  }
 },
 "nbformat": 4,
 "nbformat_minor": 0
}
