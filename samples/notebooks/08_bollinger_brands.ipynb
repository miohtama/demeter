{
 "cells": [
  {
   "cell_type": "markdown",
   "metadata": {
    "collapsed": false,
    "jupyter": {
     "outputs_hidden": false
    }
   },
   "source": [
    "# Bollinger Bands\n",
    "This strategy combines the moving average strategy 4.9 and the volatility sized intervals strategy 4.10. We will provide liquidity inside the Bollinger Bands. These bands are made up of a lower band BOLL = pa −c·v and an upper band BOLU = pa +c·v. The liquidity position will be [pa −v·c,pa +v·c]. This strategy also has an unused leftover token."
   ]
  },
  {
   "cell_type": "markdown",
   "metadata": {
    "collapsed": false,
    "jupyter": {
     "outputs_hidden": false
    }
   },
   "source": [
    "Import code dependencies"
   ]
  },
  {
   "cell_type": "code",
   "execution_count": 10,
   "metadata": {
    "ExecuteTime": {
     "end_time": "2023-11-03T02:24:30.032727Z",
     "start_time": "2023-11-03T02:24:29.950250Z"
    },
    "collapsed": false,
    "jupyter": {
     "outputs_hidden": false
    }
   },
   "outputs": [],
   "source": [
    "import math\n",
    "from datetime import date, timedelta\n",
    "from typing import Dict\n",
    "from _decimal import Decimal\n",
    "\n",
    "import pandas as pd\n",
    "\n",
    "from demeter import (\n",
    "    TokenInfo,\n",
    "    Actuator,\n",
    "    Strategy,\n",
    "    ChainType,\n",
    "    PeriodTrigger,\n",
    "    realized_volatility,\n",
    "    simple_moving_average,\n",
    "    MarketInfo,\n",
    "    EvaluatorEnum,\n",
    "    RowData,\n",
    ")\n",
    "from demeter.uniswap import UniV3Pool, UniLpMarket"
   ]
  },
  {
   "cell_type": "markdown",
   "metadata": {
    "collapsed": false,
    "jupyter": {
     "outputs_hidden": false
    }
   },
   "source": [
    "Set pandas output format and const variables."
   ]
  },
  {
   "cell_type": "code",
   "execution_count": 11,
   "metadata": {
    "ExecuteTime": {
     "end_time": "2023-11-03T02:24:30.080309Z",
     "start_time": "2023-11-03T02:24:30.058679Z"
    },
    "collapsed": false,
    "jupyter": {
     "outputs_hidden": false
    }
   },
   "outputs": [],
   "source": [
    "pd.options.display.max_columns = None\n",
    "pd.set_option(\"display.width\", 5000)\n",
    "c = 2"
   ]
  },
  {
   "cell_type": "markdown",
   "metadata": {
    "collapsed": false,
    "jupyter": {
     "outputs_hidden": false
    }
   },
   "source": [
    "Custom Add By Volatility strategy with code to add liquidity price at around one day bollinger bands."
   ]
  },
  {
   "cell_type": "code",
   "execution_count": 12,
   "metadata": {
    "ExecuteTime": {
     "end_time": "2023-11-03T02:24:30.130165Z",
     "start_time": "2023-11-03T02:24:30.101834Z"
    },
    "collapsed": false,
    "jupyter": {
     "outputs_hidden": false
    }
   },
   "outputs": [],
   "source": [
    "class AddByVolatilityStrategy(Strategy):\n",
    "    \"\"\"\n",
    "    We will provide liquidity inside the Bollinger Bands.\n",
    "    These bands are made up of a lower band BOLL = pa − c · v\n",
    "    and an upper band BOLU = pa + c · v.\n",
    "    The liquidity get_position will be [pa − v · c, pa + v · c].\n",
    "\n",
    "    * pa is simple moving average\n",
    "    * c is a constant value, =2\n",
    "    * v is volatility\n",
    "\n",
    "    we will adjust liquidity every 4 hours, by remove all the liquidity, then even split all the capital into two assets,\n",
    "    and provide liquidity by the rules above.\n",
    "\n",
    "    \"\"\"\n",
    "\n",
    "    def initialize(self):\n",
    "        self.add_column(market_key, \"sma_1_day\", simple_moving_average(self.data[market_key].price, timedelta(days=1)))\n",
    "        self.add_column(market_key, \"volatility\", realized_volatility(self.data[market_key].price, timedelta(days=1), timedelta(days=1)))\n",
    "        self.triggers.append(PeriodTrigger(time_delta=timedelta(hours=4), trigger_immediately=True, do=self.work))\n",
    "        self.markets.default.even_rebalance(self.data[market_key].price[0])\n",
    "\n",
    "    def work(self, row_data: RowData):\n",
    "        lp_market: UniLpMarket = self.broker.markets[market_key]\n",
    "        lp_row_data = row_data.market_status[market_key]\n",
    "        if len(lp_market.positions) > 0:\n",
    "            lp_market.remove_all_liquidity()\n",
    "            lp_market.even_rebalance(row_data.prices[eth.name])\n",
    "        if math.isnan(lp_row_data.volatility):\n",
    "            return\n",
    "        limit = c * float(row_data.prices[eth.name]) * lp_row_data.volatility\n",
    "        lp_market.add_liquidity(lp_row_data.sma_1_day - limit, lp_row_data.sma_1_day + limit)\n"
   ]
  },
  {
   "cell_type": "markdown",
   "metadata": {
    "collapsed": false,
    "jupyter": {
     "outputs_hidden": false
    }
   },
   "source": [
    "Main logic to run Actuator, init two token and market with key \"market1\""
   ]
  },
  {
   "cell_type": "code",
   "execution_count": 13,
   "metadata": {
    "ExecuteTime": {
     "end_time": "2023-11-03T02:24:30.791745Z",
     "start_time": "2023-11-03T02:24:30.165512Z"
    },
    "collapsed": false,
    "jupyter": {
     "outputs_hidden": false
    }
   },
   "outputs": [
    {
     "name": "stderr",
     "output_type": "stream",
     "text": [
      "2023-11-03 10:24:30,171 - INFO - start load files from 2023-08-13 to 2023-08-17...\n",
      "2023-11-03 10:24:30,345 - INFO - load file complete, preparing...\n",
      "2023-11-03 10:24:30,762 - INFO - data has been prepared\n"
     ]
    }
   ],
   "source": [
    "usdc = TokenInfo(name=\"usdc\", decimal=6)  # declare  token0\n",
    "eth = TokenInfo(name=\"eth\", decimal=18)  # declare token1\n",
    "pool = UniV3Pool(usdc, eth, 0.05, usdc)  # declare pool\n",
    "market_key = MarketInfo(\"market1\")\n",
    "\n",
    "actuator = Actuator()  # declare actuator\n",
    "broker = actuator.broker\n",
    "market = UniLpMarket(market_key, pool)\n",
    "\n",
    "broker.add_market(market)\n",
    "broker.set_balance(usdc, 5000)\n",
    "broker.set_balance(eth, 0)\n",
    "\n",
    "actuator.strategy = AddByVolatilityStrategy()\n",
    "\n",
    "market.data_path = \"../data\"\n",
    "market.load_data(ChainType.polygon.name, \"0x45dda9cb7c25131df268515131f647d726f50608\", date(2023, 8, 13), date(2023, 8, 17))\n",
    "actuator.set_price(market.get_price_from_data())\n",
    "# actuator.run()  # run test"
   ]
  },
  {
   "cell_type": "markdown",
   "metadata": {
    "collapsed": false,
    "jupyter": {
     "outputs_hidden": false
    }
   },
   "source": [
    "Run actuator with evaluators and save result to files"
   ]
  },
  {
   "cell_type": "code",
   "execution_count": 14,
   "metadata": {
    "ExecuteTime": {
     "end_time": "2023-11-03T02:24:35.645488Z",
     "start_time": "2023-11-03T02:24:30.816101Z"
    },
    "collapsed": false,
    "jupyter": {
     "outputs_hidden": false
    }
   },
   "outputs": [
    {
     "name": "stderr",
     "output_type": "stream",
     "text": [
      "2023-11-03 10:24:30,810 - INFO - init strategy...\n",
      "2023-11-03 10:24:30,974 - INFO - start main loop...\n",
      "100%|███████████████████████████████████████████████████████████████████████████████████████████████████████████| 7200/7200 [00:04<00:00, 1625.78it/s]\n",
      "2023-11-03 10:24:35,411 - INFO - main loop finished\n",
      "2023-11-03 10:24:35,464 - INFO - Start calculate evaluating indicator...\n",
      "/Users/florije/PycharmProjects/demeter/demeter/core/evaluating_indicator.py:85: SettingWithCopyWarning: \n",
      "A value is trying to be set on a copy of a slice from a DataFrame\n",
      "\n",
      "See the caveats in the documentation: https://pandas.pydata.org/pandas-docs/stable/user_guide/indexing.html#returning-a-view-versus-a-copy\n",
      "  fee_df.sort_values(by=[\"market1_base_uncollected\", \"market1_quote_uncollected\"], ascending=[False, False], inplace=True)\n",
      "2023-11-03 10:24:35,526 - INFO - Evaluating indicator has finished it's job.\n",
      "2023-11-03 10:24:35,527 - INFO - Print actuator summary\n",
      "2023-11-03 10:24:35,540 - INFO - Backtesting finished, execute time 4.736294746398926s\n",
      "2023-11-03 10:24:35,627 - INFO - files have saved to ./result/backtest-20231103-102435.account.csv,./result/backtest-20231103-102435.action.json,./result/backtest-20231103-102435.action.pkl\n"
     ]
    },
    {
     "name": "stdout",
     "output_type": "stream",
     "text": [
      "\u001B[7;31mFinal account status                              \u001B[0m\n",
      "\u001B[7;35mToken balance in broker       \u001B[0m\n",
      "\u001B[34mUSDC      \u001B[0m:2426.887083367097715269579559\u001B[34mETH       \u001B[0m:0                        \n",
      "\u001B[7;35mPosition value in markets     \u001B[0m\n",
      "\u001B[4;33mmarket1(UniLpMarket)\u001B[0m\n",
      "\u001B[34mtoken0    \u001B[0m:USDC                     \u001B[34mtoken1    \u001B[0m:ETH                      \u001B[34mfee       \u001B[0m:0.0500                   \u001B[34mis 0 base \u001B[0m:True                     \n",
      "\u001B[34mpositions \u001B[0m\n",
      "   lower_tick  upper_tick pending0 pending1         liquidity\n",
      "0      201205      201695        0        0  2409456952156536\n",
      "\n",
      "\u001B[7;31mAccount balance history                           \u001B[0m\n",
      "                                         net_value                           USDC                            ETH              market1_net_value market1_base_uncollected market1_quote_uncollected market1_base_in_position     market1_quote_in_position  market1_position_count\n",
      "2023-08-13 00:00:00  4998.750000000000000000000000  2498.750000000000000000000000  1.352722809207831809288437799                          0E-24                        0                         0                        0                             0                       0\n",
      "2023-08-13 00:01:00  4998.750000000000000000000000  2498.750000000000000000000000  1.352722809207831809288437799                          0E-24                        0                         0                        0                             0                       0\n",
      "2023-08-13 00:02:00  4998.750000000000000000000000  2498.750000000000000000000000  1.352722809207831809288437799                          0E-24                        0                         0                        0                             0                       0\n",
      "2023-08-13 00:03:00  4998.750000000000000000000000  2498.750000000000000000000000  1.352722809207831809288437799                          0E-24                        0                         0                        0                             0                       0\n",
      "2023-08-13 00:04:00  4998.750000000000000000000000  2498.750000000000000000000000  1.352722809207831809288437799                          0E-24                        0                         0                        0                             0                       0\n",
      "...                                            ...                            ...                            ...                            ...                      ...                       ...                      ...                           ...                     ...\n",
      "2023-08-17 23:55:00  4778.523242197156897792125638  2426.887083367097715269579559                              0  2351.636158830059182522546079                        0                         0                        0  1.39729100977967344880959454                       1\n",
      "2023-08-17 23:56:00  4778.993592945284497929221973  2426.887083367097715269579559                              0  2352.106509578186782659642414                        0                         0                        0  1.39729100977967344880959454                       1\n",
      "2023-08-17 23:57:00  4778.993592945284497929221973  2426.887083367097715269579559                              0  2352.106509578186782659642414                        0                         0                        0  1.39729100977967344880959454                       1\n",
      "2023-08-17 23:58:00  4779.464037768265231067621728  2426.887083367097715269579559                              0  2352.576954401167515798042169                        0                         0                        0  1.39729100977967344880959454                       1\n",
      "2023-08-17 23:59:00  4779.464037768265231067621728  2426.887083367097715269579559                              0  2352.576954401167515798042169                        0                         0                        0  1.39729100977967344880959454                       1\n",
      "\n",
      "[7200 rows x 9 columns]\n",
      "Evaluating indicator\n",
      "max_draw_down:0.07140187073217714721253066259; annualized_returns:-0.9628574983907943784435825066; net_value:0.9558928075536530462135243456; profit:-220.535962231734768932378272; net_value_up_down_rate:-0.0441071924463469537864756544; eth_up_down_rate:-0.08898447514180891167240456340; position_fee_profit:2884.415535177800044543009916; position_fee_annualized_returns:81.94384167478864344729457225; position_market_time_rate:0.389166666666666660745477201999165117740631103515625\n"
     ]
    },
    {
     "data": {
      "text/plain": [
       "['./result/backtest-20231103-102435.account.csv',\n",
       " './result/backtest-20231103-102435.action.json',\n",
       " './result/backtest-20231103-102435.action.pkl']"
      ]
     },
     "execution_count": 14,
     "metadata": {},
     "output_type": "execute_result"
    }
   ],
   "source": [
    "actuator.run(evaluator=[\n",
    "    EvaluatorEnum.max_draw_down,\n",
    "    EvaluatorEnum.annualized_returns,\n",
    "    EvaluatorEnum.net_value,\n",
    "    EvaluatorEnum.profit,\n",
    "    EvaluatorEnum.net_value_up_down_rate,\n",
    "    EvaluatorEnum.eth_up_down_rate,\n",
    "    EvaluatorEnum.position_fee_profit,\n",
    "    EvaluatorEnum.position_fee_annualized_returns,\n",
    "    EvaluatorEnum.position_market_time_rate,\n",
    "])\n",
    "evaluating_result: Dict[EvaluatorEnum, Decimal] = actuator.evaluating_indicator\n",
    "\n",
    "actuator.save_result(\n",
    "    path=\"./result\",  # save path\n",
    "    account=True,  # save account status list as a csv file\n",
    "    actions=True,  # save actions as a json file and a pickle file\n",
    ")"
   ]
  }
 ],
 "metadata": {
  "kernelspec": {
   "display_name": "Python 3 (ipykernel)",
   "language": "python",
   "name": "python3"
  },
  "language_info": {
   "codemirror_mode": {
    "name": "ipython",
    "version": 3
   },
   "file_extension": ".py",
   "mimetype": "text/x-python",
   "name": "python",
   "nbconvert_exporter": "python",
   "pygments_lexer": "ipython3",
   "version": "3.10.1"
  }
 },
 "nbformat": 4,
 "nbformat_minor": 4
}
