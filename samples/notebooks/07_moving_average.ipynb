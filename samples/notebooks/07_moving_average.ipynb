{
 "cells": [
  {
   "cell_type": "markdown",
   "source": [
    "# Moving Average\n",
    "This strategy does not look at the current price but instead at the moving average of the price pa. We will consider different time intervals for calculating the moving average: two hours, six hours, one day, seven days, 30 days, 100 days, and 200 days. The liquidity position of this strategy will be [pa − a, pa + a]. As in the constant interval strategy 4.3, the leftover token will not be used to provide any liquidity."
   ],
   "metadata": {
    "collapsed": false
   }
  },
  {
   "cell_type": "markdown",
   "source": [
    "Import code dependencies"
   ],
   "metadata": {
    "collapsed": false
   }
  },
  {
   "cell_type": "code",
   "execution_count": 1,
   "outputs": [],
   "source": [
    "import math\n",
    "from datetime import date, timedelta\n",
    "from typing import Dict\n",
    "from _decimal import Decimal\n",
    "\n",
    "import pandas as pd\n",
    "\n",
    "from demeter import TokenInfo, Actuator, Strategy, RowData, simple_moving_average, ChainType, MarketInfo, PeriodTrigger, BaseAction, EvaluatorEnum\n",
    "from demeter.uniswap import UniV3Pool, UniLpMarket"
   ],
   "metadata": {
    "collapsed": false,
    "ExecuteTime": {
     "end_time": "2023-11-03T02:18:17.312929Z",
     "start_time": "2023-11-03T02:18:16.356388Z"
    }
   }
  },
  {
   "cell_type": "markdown",
   "source": [
    "Set pandas output format"
   ],
   "metadata": {
    "collapsed": false
   }
  },
  {
   "cell_type": "code",
   "execution_count": 2,
   "outputs": [],
   "source": [
    "pd.options.display.max_columns = None\n",
    "pd.set_option(\"display.width\", 5000)"
   ],
   "metadata": {
    "collapsed": false,
    "ExecuteTime": {
     "end_time": "2023-11-03T02:18:17.320790Z",
     "start_time": "2023-11-03T02:18:17.315202Z"
    }
   }
  },
  {
   "cell_type": "markdown",
   "source": [
    "Custom Moving Average strategy with code to add liquidity at window's average price."
   ],
   "metadata": {
    "collapsed": false
   }
  },
  {
   "cell_type": "code",
   "execution_count": 3,
   "outputs": [],
   "source": [
    "class MovingAverageStrategy(Strategy):\n",
    "\n",
    "    def initialize(self):\n",
    "        \"\"\"\n",
    "        This function is called before main loop is executed.\n",
    "        you can prepare data, or register trigger here\n",
    "        \"\"\"\n",
    "\n",
    "        # Add a simple moving average line for backtesting data. In backtesting,\n",
    "        # we will add/remove liquidity according to this line.\n",
    "        self.add_column(market_key, \"sma\", simple_moving_average(self.data[market_key].price, window=timedelta(hours=1)))\n",
    "        self.net_value_before_bar = 0\n",
    "        self.net_value_diff_list = []\n",
    "        # Register a trigger, every day, we split both assets into two shares of equal value\n",
    "        self.triggers.append(PeriodTrigger(time_delta=timedelta(days=1), trigger_immediately=True, do=self.rebalance))\n",
    "\n",
    "    def rebalance(self, row_data: RowData):\n",
    "        self.markets[market_key].even_rebalance(row_data.market_status[market_key].price)\n",
    "\n",
    "    \"\"\"\n",
    "    After a test is executed, actuator will loop the data, and bar series functions will be called on every time.\n",
    "    Here you can set conditions and execute liquidity operations\n",
    "    \"\"\"\n",
    "\n",
    "    def on_bar(self, row_data: RowData):\n",
    "        \"\"\"\n",
    "        This function is called after trigger, but before market is updated(Fees will be distributed in this step).\n",
    "        \"\"\"\n",
    "        lp_market: UniLpMarket = self.markets[market_key]\n",
    "        current_price = row_data.market_status[market_key].price\n",
    "        # get moving average price, if value is nan, fill it with current price\n",
    "        ma_price = self.data[market_key].loc[row_data.timestamp][\"sma\"]\n",
    "        ma_price = row_data.market_status[market_key].price if math.isnan(ma_price) else ma_price\n",
    "\n",
    "        # this is a nonsense strategy, just to show how to trigger actions\n",
    "        if row_data.market_status[market_key].price > ma_price + 25 and len(self.markets[market_key].positions) < 1:\n",
    "            lp_market.remove_all_liquidity()\n",
    "            lp_market.add_liquidity(current_price, current_price + 100)\n",
    "        elif row_data.market_status[market_key].price < ma_price - 25 and len(self.markets[market_key].positions) < 1:\n",
    "            lp_market.remove_all_liquidity()\n",
    "            lp_market.add_liquidity(current_price - 100, current_price)\n",
    "\n",
    "    def after_bar(self, row_data: RowData):\n",
    "        \"\"\"\n",
    "        this function is called after market has updated.\n",
    "        \"\"\"\n",
    "        timestamp = row_data.timestamp\n",
    "        net_value_after_bar = self.broker.get_account_status(self.prices.loc[timestamp]).net_value\n",
    "        net_value_diff = net_value_after_bar - self.net_value_before_bar\n",
    "        self.net_value_diff_list.append(net_value_diff)\n",
    "\n",
    "    def finalize(self):\n",
    "        \"\"\"\n",
    "        Call when main loop finished. some statistic work can be executed here\n",
    "        \"\"\"\n",
    "        self.data[market_key][\"diff\"] = self.net_value_diff_list\n",
    "        pass\n",
    "\n",
    "    def notify(self, action: BaseAction):\n",
    "        \"\"\"\n",
    "        When a new action(add/remove liquidity) is executed, you can be notified by this call back.\n",
    "        \"\"\"\n",
    "        print(\"\\n\")\n",
    "        print(action.timestamp, action.action_type.value)"
   ],
   "metadata": {
    "collapsed": false,
    "ExecuteTime": {
     "end_time": "2023-11-03T02:18:17.338947Z",
     "start_time": "2023-11-03T02:18:17.330981Z"
    }
   }
  },
  {
   "cell_type": "markdown",
   "source": [
    "Main logic to run Actuator, init two token and market with key \"market1\""
   ],
   "metadata": {
    "collapsed": false
   }
  },
  {
   "cell_type": "code",
   "execution_count": 4,
   "outputs": [],
   "source": [
    "usdc = TokenInfo(name=\"usdc\", decimal=6)  # TokenInfo(name='usdc', decimal=6)\n",
    "eth = TokenInfo(name=\"eth\", decimal=18)  # TokenInfo(name='eth', decimal=18)\n",
    "pool = UniV3Pool(\n",
    "    usdc, eth, 0.05, usdc\n",
    ")  # PoolBaseInfo(Token0: TokenInfo(name='usdc', decimal=6),Token1: TokenInfo(name='eth', decimal=18),fee: 0.0500,base token: usdc)\n",
    "\n",
    "market_key = MarketInfo(\"market1\")  # market1\n",
    "market = UniLpMarket(market_key, pool)\n",
    "market.data_path = \"../data\"\n",
    "market.load_data(ChainType.polygon.name, \"0x45dda9cb7c25131df268515131f647d726f50608\", date(2023, 8, 15), date(2023, 8, 15))\n",
    "\n",
    "actuator = Actuator()  # init actuator\n",
    "actuator.broker.add_market(market)  # add market to actuator\n",
    "actuator.broker.set_balance(usdc, 10000)  # set balance\n",
    "actuator.broker.set_balance(eth, 10)  # set balance\n",
    "actuator.strategy = MovingAverageStrategy()  # set strategy\n",
    "actuator.set_price(market.get_price_from_data())  # set actuator price\n",
    "\n",
    "# actuator.run()  # run actuator"
   ],
   "metadata": {
    "collapsed": false,
    "ExecuteTime": {
     "end_time": "2023-11-03T02:18:17.429749Z",
     "start_time": "2023-11-03T02:18:17.341420Z"
    }
   }
  },
  {
   "cell_type": "markdown",
   "source": [
    "Run actuator with evaluators and save result to files"
   ],
   "metadata": {
    "collapsed": false
   }
  },
  {
   "cell_type": "code",
   "execution_count": 5,
   "outputs": [
    {
     "name": "stderr",
     "output_type": "stream",
     "text": [
      "2023-11-03 10:18:17,432 - INFO - init strategy...\n",
      "2023-11-03 10:18:17,437 - INFO - start main loop...\n",
      " 13%|██████████████▎                                                                                              | 189/1440 [00:00<00:01, 967.18it/s]"
     ]
    },
    {
     "name": "stdout",
     "output_type": "stream",
     "text": [
      "\n",
      "\n",
      "2023-08-15 00:00:00 sell\n"
     ]
    },
    {
     "name": "stderr",
     "output_type": "stream",
     "text": [
      "100%|████████████████████████████████████████████████████████████████████████████████████████████████████████████| 1440/1440 [00:01<00:00, 998.43it/s]\n",
      "2023-11-03 10:18:18,915 - INFO - main loop finished\n",
      "2023-11-03 10:18:18,929 - INFO - Start calculate evaluating indicator...\n",
      "/Users/florije/PycharmProjects/demeter/demeter/core/evaluating_indicator.py:85: SettingWithCopyWarning: \n",
      "A value is trying to be set on a copy of a slice from a DataFrame\n",
      "\n",
      "See the caveats in the documentation: https://pandas.pydata.org/pandas-docs/stable/user_guide/indexing.html#returning-a-view-versus-a-copy\n",
      "  fee_df.sort_values(by=[\"market1_base_uncollected\", \"market1_quote_uncollected\"], ascending=[False, False], inplace=True)\n",
      "2023-11-03 10:18:18,946 - INFO - Evaluating indicator has finished it's job.\n",
      "2023-11-03 10:18:18,952 - INFO - Print actuator summary\n",
      "2023-11-03 10:18:18,963 - INFO - Backtesting finished, execute time 1.531486988067627s\n",
      "2023-11-03 10:18:18,980 - INFO - files have saved to ./result/backtest-20231103-101818.account.csv,./result/backtest-20231103-101818.action.json,./result/backtest-20231103-101818.action.pkl\n"
     ]
    },
    {
     "name": "stdout",
     "output_type": "stream",
     "text": [
      "\u001B[7;31mFinal account status                              \u001B[0m\n",
      "\u001B[7;35mToken balance in broker       \u001B[0m\n",
      "\u001B[34mUSDC      \u001B[0m:14216.36285789554574593764472\u001B[34mETH       \u001B[0m:7.711946160408465926967320488\n",
      "\u001B[7;35mPosition value in markets     \u001B[0m\n",
      "\u001B[4;33mmarket1(UniLpMarket)\u001B[0m\n",
      "\u001B[34mtoken0    \u001B[0m:USDC                     \u001B[34mtoken1    \u001B[0m:ETH                      \u001B[34mfee       \u001B[0m:0.0500                   \u001B[34mis 0 base \u001B[0m:True                     \n",
      "\u001B[34mpositions \u001B[0m\n",
      "Empty DataFrame\n",
      "\n",
      "\n",
      "\u001B[7;31mAccount balance history                           \u001B[0m\n",
      "                                         net_value                           USDC                            ETH market1_net_value market1_base_uncollected market1_quote_uncollected market1_base_in_position market1_quote_in_position  market1_position_count\n",
      "2023-08-15 00:00:00  28434.83495183806275037750938  14216.36285789554574593764472  7.711946160408465926967320488             0E-24                        0                         0                        0                         0                       0\n",
      "2023-08-15 00:01:00  28434.83495183806275037750938  14216.36285789554574593764472  7.711946160408465926967320488             0E-24                        0                         0                        0                         0                       0\n",
      "2023-08-15 00:02:00  28434.83495183806275037750938  14216.36285789554574593764472  7.711946160408465926967320488             0E-24                        0                         0                        0                         0                       0\n",
      "2023-08-15 00:03:00  28434.83495183806275037750938  14216.36285789554574593764472  7.711946160408465926967320488             0E-24                        0                         0                        0                         0                       0\n",
      "2023-08-15 00:04:00  28434.83495183806275037750938  14216.36285789554574593764472  7.711946160408465926967320488             0E-24                        0                         0                        0                         0                       0\n",
      "...                                            ...                            ...                            ...               ...                      ...                       ...                      ...                       ...                     ...\n",
      "2023-08-15 23:55:00  28308.85827664373794245780204  14216.36285789554574593764472  7.711946160408465926967320488             0E-24                        0                         0                        0                         0                       0\n",
      "2023-08-15 23:56:00  28308.85827664373794245780204  14216.36285789554574593764472  7.711946160408465926967320488             0E-24                        0                         0                        0                         0                       0\n",
      "2023-08-15 23:57:00  28308.85827664373794245780204  14216.36285789554574593764472  7.711946160408465926967320488             0E-24                        0                         0                        0                         0                       0\n",
      "2023-08-15 23:58:00  28306.04020027848793019152942  14216.36285789554574593764472  7.711946160408465926967320488             0E-24                        0                         0                        0                         0                       0\n",
      "2023-08-15 23:59:00  28306.04020027848793019152942  14216.36285789554574593764472  7.711946160408465926967320488             0E-24                        0                         0                        0                         0                       0\n",
      "\n",
      "[1440 rows x 9 columns]\n",
      "Evaluating indicator\n",
      "max_draw_down:0.007643110924920740239912805967; annualized_returns:-0.8143860430008818161587762925; net_value:0.9953966928815679503329093277; profit:-130.90398760654607868819989; net_value_up_down_rate:-0.004603307118432049667090672277; eth_up_down_rate:-0.009058269461628379424748143487; position_fee_profit:0E-24; position_fee_annualized_returns:0; position_market_time_rate:0\n"
     ]
    },
    {
     "data": {
      "text/plain": "['./result/backtest-20231103-101818.account.csv',\n './result/backtest-20231103-101818.action.json',\n './result/backtest-20231103-101818.action.pkl']"
     },
     "execution_count": 5,
     "metadata": {},
     "output_type": "execute_result"
    }
   ],
   "source": [
    "actuator.run(evaluator=[\n",
    "    EvaluatorEnum.max_draw_down,\n",
    "    EvaluatorEnum.annualized_returns,\n",
    "    EvaluatorEnum.net_value,\n",
    "    EvaluatorEnum.profit,\n",
    "    EvaluatorEnum.net_value_up_down_rate,\n",
    "    EvaluatorEnum.eth_up_down_rate,\n",
    "    EvaluatorEnum.position_fee_profit,\n",
    "    EvaluatorEnum.position_fee_annualized_returns,\n",
    "    EvaluatorEnum.position_market_time_rate,\n",
    "])\n",
    "evaluating_result: Dict[EvaluatorEnum, Decimal] = actuator.evaluating_indicator\n",
    "\n",
    "actuator.save_result(\n",
    "    path=\"./result\",  # save path\n",
    "    account=True,  # save account status list as a csv file\n",
    "    actions=True,  # save actions as a json file and a pickle file\n",
    ")"
   ],
   "metadata": {
    "collapsed": false,
    "ExecuteTime": {
     "end_time": "2023-11-03T02:18:19.028263Z",
     "start_time": "2023-11-03T02:18:17.433732Z"
    }
   }
  }
 ],
 "metadata": {
  "kernelspec": {
   "display_name": "Python 3",
   "language": "python",
   "name": "python3"
  },
  "language_info": {
   "codemirror_mode": {
    "name": "ipython",
    "version": 2
   },
   "file_extension": ".py",
   "mimetype": "text/x-python",
   "name": "python",
   "nbconvert_exporter": "python",
   "pygments_lexer": "ipython2",
   "version": "2.7.6"
  }
 },
 "nbformat": 4,
 "nbformat_minor": 0
}
