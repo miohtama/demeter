{
 "cells": [
  {
   "cell_type": "markdown",
   "source": [
    "# Constant Interval\n",
    "\n",
    "We will choose a fixed parameter a > 0 for this strategy. In the beginning, we will provide liquidity in a symmetric interval around the current price. This interval will never be adjusted. More specifically, we will choose the interval [p − a, p + a], where p is the price at the beginning.\n",
    "For the USDC-ETH pool, we will choose a ∈ [10, 40000], which means that the size is between 10 and 40000 basis points, or 0.1% and 400%. It does not make sense to choose another a because, at any time, the price is always in [p−a,p+a]."
   ],
   "metadata": {
    "collapsed": false
   }
  },
  {
   "cell_type": "markdown",
   "source": [
    "Import code dependencies"
   ],
   "metadata": {
    "collapsed": false
   }
  },
  {
   "cell_type": "code",
   "execution_count": 1,
   "outputs": [],
   "source": [
    "from _decimal import Decimal\n",
    "from typing import List, Dict\n",
    "\n",
    "import pandas as pd\n",
    "from matplotlib.pylab import plt\n",
    "import matplotlib.dates as mdates\n",
    "\n",
    "from demeter import MarketInfo\n",
    "from demeter.broker import AccountStatus"
   ],
   "metadata": {
    "collapsed": false,
    "ExecuteTime": {
     "end_time": "2023-11-03T02:06:45.883200Z",
     "start_time": "2023-11-03T02:06:44.067872Z"
    }
   }
  },
  {
   "cell_type": "markdown",
   "source": [
    "Set matplotlib to show formatted account status"
   ],
   "metadata": {
    "collapsed": false
   }
  },
  {
   "cell_type": "code",
   "execution_count": 2,
   "outputs": [],
   "source": [
    "def plotter(account_status_list: List[AccountStatus]):\n",
    "    net_value_ts = [status.net_value for status in account_status_list]\n",
    "    time_ts = [status.timestamp for status in account_status_list]\n",
    "    plt.plot(time_ts, net_value_ts)\n",
    "    plt.show()"
   ],
   "metadata": {
    "collapsed": false,
    "ExecuteTime": {
     "end_time": "2023-11-03T02:06:45.893033Z",
     "start_time": "2023-11-03T02:06:45.889559Z"
    }
   }
  },
  {
   "cell_type": "markdown",
   "source": [
    "Make plot about price and account value / position net value"
   ],
   "metadata": {
    "collapsed": false
   }
  },
  {
   "cell_type": "code",
   "execution_count": 3,
   "outputs": [],
   "source": [
    "def plot_position_return_decomposition(account_status: pd.DataFrame, price: pd.Series, market: MarketInfo):\n",
    "    fig, value_ax = plt.subplots()\n",
    "    day = mdates.DayLocator(interval=2)\n",
    "\n",
    "    price_ax = value_ax.twinx()\n",
    "    price_ax.xaxis.set_major_locator(day)\n",
    "    price_ax.xaxis.set_major_formatter(mdates.DateFormatter('%m-%d'))\n",
    "    value_ax.set_xlabel('time')\n",
    "    value_ax.set_ylabel('value', color='g')\n",
    "    price_ax.set_ylabel('price', color='b')\n",
    "\n",
    "    net_value_ts = list(account_status.net_value)\n",
    "    time_ts = list(account_status.index)\n",
    "    price_ts = list(price)\n",
    "\n",
    "    value_in_position = account_status[market.name + \"_net_value\"]\n",
    "    value_in_account = account_status[\"USDC\"] + account_status[\"ETH\"] * price\n",
    "\n",
    "    value_ax.plot(time_ts, net_value_ts, 'g-', label=\"net value\")\n",
    "    value_ax.plot(time_ts, value_in_position, 'r-', label=\"value in get_position\")\n",
    "    value_ax.plot(time_ts, value_in_account, 'b-', label=\"value in broker account\")\n",
    "    price_ax.plot(time_ts, price_ts, 'y-', label=\"price\")\n",
    "    fig.legend()\n",
    "    fig.show()"
   ],
   "metadata": {
    "collapsed": false,
    "ExecuteTime": {
     "end_time": "2023-11-03T02:06:45.911235Z",
     "start_time": "2023-11-03T02:06:45.903147Z"
    }
   }
  },
  {
   "cell_type": "markdown",
   "source": [
    "Add dependence about run Actuator"
   ],
   "metadata": {
    "collapsed": false
   }
  },
  {
   "cell_type": "code",
   "execution_count": 4,
   "outputs": [],
   "source": [
    "from datetime import date\n",
    "import pandas as pd\n",
    "from demeter import Actuator, MarketInfo, TokenInfo, Strategy, ChainType, EvaluatorEnum\n",
    "from demeter.uniswap import UniV3Pool, UniLpMarket"
   ],
   "metadata": {
    "collapsed": false,
    "ExecuteTime": {
     "end_time": "2023-11-03T02:06:45.919681Z",
     "start_time": "2023-11-03T02:06:45.907192Z"
    }
   }
  },
  {
   "cell_type": "markdown",
   "source": [
    "Set pandas output format"
   ],
   "metadata": {
    "collapsed": false
   }
  },
  {
   "cell_type": "code",
   "execution_count": 5,
   "outputs": [],
   "source": [
    "pd.options.display.max_columns = None\n",
    "pd.set_option(\"display.width\", 5000)"
   ],
   "metadata": {
    "collapsed": false,
    "ExecuteTime": {
     "end_time": "2023-11-03T02:06:45.933042Z",
     "start_time": "2023-11-03T02:06:45.919396Z"
    }
   }
  },
  {
   "cell_type": "markdown",
   "source": [
    "Custom Constant Interval strategy with code to add liquidity at constant interval around current price."
   ],
   "metadata": {
    "collapsed": false
   }
  },
  {
   "cell_type": "code",
   "execution_count": 6,
   "outputs": [],
   "source": [
    "class ConstantIntervalStrategy(Strategy):\n",
    "    def __init__(self, a=100):\n",
    "        super().__init__()\n",
    "        self.a = a\n",
    "\n",
    "    def initialize(self):\n",
    "        market: UniLpMarket = self.markets[market_key]\n",
    "        init_price = market.market_status.data.price\n",
    "        market.even_rebalance(init_price)  # rebalance all reserve token#\n",
    "        # new_position(self, baseToken, quoteToken, usd_price_a, usd_price_b):\n",
    "        # what is  base/quote \"https://corporatefinanceinstitute.com/resources/knowledge/economics/currency-pair/\"\n",
    "        market.add_liquidity(init_price - self.a, init_price + self.a)\n",
    "        super().__init__()"
   ],
   "metadata": {
    "collapsed": false,
    "ExecuteTime": {
     "end_time": "2023-11-03T02:06:45.933503Z",
     "start_time": "2023-11-03T02:06:45.926695Z"
    }
   }
  },
  {
   "cell_type": "markdown",
   "source": [
    "Main logic to run Actuator, init two token and market with key \"market1\""
   ],
   "metadata": {
    "collapsed": false
   }
  },
  {
   "cell_type": "code",
   "execution_count": 7,
   "outputs": [
    {
     "name": "stderr",
     "output_type": "stream",
     "text": [
      "2023-11-03 10:06:45,935 - INFO - start load files from 2023-08-13 to 2023-08-17...\n",
      "2023-11-03 10:06:46,005 - INFO - load file complete, preparing...\n",
      "2023-11-03 10:06:46,362 - INFO - data has been prepared\n"
     ]
    }
   ],
   "source": [
    "usdc = TokenInfo(name=\"usdc\", decimal=6)  # declare  token0\n",
    "eth = TokenInfo(name=\"eth\", decimal=18)  # declare token1\n",
    "pool = UniV3Pool(usdc, eth, 0.05, usdc)  # declare pool\n",
    "market_key = MarketInfo(\"market1\")\n",
    "\n",
    "actuator = Actuator()  # declare actuator\n",
    "broker = actuator.broker\n",
    "market = UniLpMarket(market_key, pool)\n",
    "\n",
    "broker.add_market(market)\n",
    "broker.set_balance(usdc, 2000)\n",
    "broker.set_balance(eth, 0)\n",
    "\n",
    "actuator.strategy = ConstantIntervalStrategy(200)\n",
    "\n",
    "market.data_path = \"../data\"\n",
    "market.load_data(ChainType.polygon.name, \"0x45dda9cb7c25131df268515131f647d726f50608\", date(2023, 8, 13), date(2023, 8, 17))\n",
    "actuator.set_price(market.get_price_from_data())\n",
    "# actuator.run()  # run test"
   ],
   "metadata": {
    "collapsed": false,
    "ExecuteTime": {
     "end_time": "2023-11-03T02:06:46.375685Z",
     "start_time": "2023-11-03T02:06:45.939041Z"
    }
   }
  },
  {
   "cell_type": "markdown",
   "source": [
    "Run actuator with evaluators and save result to files"
   ],
   "metadata": {
    "collapsed": false
   }
  },
  {
   "cell_type": "code",
   "execution_count": 8,
   "outputs": [
    {
     "name": "stderr",
     "output_type": "stream",
     "text": [
      "2023-11-03 10:06:46,378 - INFO - init strategy...\n",
      "2023-11-03 10:06:46,381 - INFO - start main loop...\n",
      "100%|███████████████████████████████████████████████████████████████████████████████████████████████████████████| 7200/7200 [00:04<00:00, 1528.69it/s]\n",
      "2023-11-03 10:06:51,121 - INFO - main loop finished\n",
      "2023-11-03 10:06:51,181 - INFO - Start calculate evaluating indicator...\n",
      "/Users/florije/PycharmProjects/demeter/demeter/core/evaluating_indicator.py:85: SettingWithCopyWarning: \n",
      "A value is trying to be set on a copy of a slice from a DataFrame\n",
      "\n",
      "See the caveats in the documentation: https://pandas.pydata.org/pandas-docs/stable/user_guide/indexing.html#returning-a-view-versus-a-copy\n",
      "  fee_df.sort_values(by=[\"market1_base_uncollected\", \"market1_quote_uncollected\"], ascending=[False, False], inplace=True)\n",
      "2023-11-03 10:06:51,250 - INFO - Evaluating indicator has finished it's job.\n",
      "2023-11-03 10:06:51,251 - INFO - Print actuator summary\n",
      "2023-11-03 10:06:51,265 - INFO - Backtesting finished, execute time 4.888534069061279s\n",
      "2023-11-03 10:06:51,347 - INFO - files have saved to ./result/backtest-20231103-100651.account.csv,./result/backtest-20231103-100651.action.json,./result/backtest-20231103-100651.action.pkl\n"
     ]
    },
    {
     "name": "stdout",
     "output_type": "stream",
     "text": [
      "\u001B[7;31mFinal account status                              \u001B[0m\n",
      "\u001B[7;35mToken balance in broker       \u001B[0m\n",
      "\u001B[34mUSDC      \u001B[0m:0                        \u001B[34mETH       \u001B[0m:0.0541238649054306471590320181\n",
      "\u001B[7;35mPosition value in markets     \u001B[0m\n",
      "\u001B[4;33mmarket1(UniLpMarket)\u001B[0m\n",
      "\u001B[34mtoken0    \u001B[0m:USDC                     \u001B[34mtoken1    \u001B[0m:ETH                      \u001B[34mfee       \u001B[0m:0.0500                   \u001B[34mis 0 base \u001B[0m:True                     \n",
      "\u001B[34mpositions \u001B[0m\n",
      "   lower_tick  upper_tick                       pending0                          pending1        liquidity\n",
      "0      200073      202246  3.019366030788522158532489880  0.001987688661354324763535360860  417864213883007\n",
      "\n",
      "\u001B[7;31mAccount balance history                           \u001B[0m\n",
      "                                         net_value USDC                             ETH              market1_net_value       market1_base_uncollected         market1_quote_uncollected       market1_base_in_position       market1_quote_in_position  market1_position_count\n",
      "2023-08-13 00:00:00  1999.500172211929896511993553    0  0.0541238649054306471590320181  1899.472538063574456374157148                          0E-35  9.318200327449656921871158635E-8  999.4999999999980797769467844  0.4869652587777020765563431004                       1\n",
      "2023-08-13 00:01:00  1999.500172211929896511993553    0  0.0541238649054306471590320181  1899.472538063574456374157148                          0E-35  9.318200327449656921871158635E-8  999.4999999999980797769467844  0.4869652587777020765563431004                       1\n",
      "2023-08-13 00:02:00  1999.500172262138912299401696    0  0.0541238649054306471590320181  1899.472538113783472161565291                          0E-35  9.320917082684997046677467748E-8  999.4999999999980797769467844  0.4869652587777020765563431004                       1\n",
      "2023-08-13 00:03:00  1999.500184659852348610783809    0  0.0541238649054306471590320181  1899.472550511496908472947404                          0E-35  9.991743872577829631714205688E-8  999.4999999999980797769467844  0.4869652587777020765563431004                       1\n",
      "2023-08-13 00:04:00  1999.500209437522079592998525    0  0.0541238649054306471590320181  1899.472575289166639455162120                          0E-35  1.133243663274255458172196696E-7  999.4999999999980797769467844  0.4869652587777020765563431004                       1\n",
      "...                                            ...  ...                             ...                            ...                            ...                               ...                            ...                             ...                     ...\n",
      "2023-08-17 23:55:00  1878.957943311728606241622308    0  0.0541238649054306471590320181  1787.867657267940505114529600  3.014351959790673658453000361  0.001985683061751458845973221176  178.1986005523243141665461157  0.9526535651680435672921683185                       1\n",
      "2023-08-17 23:56:00  1879.298020038814644393742363    0  0.0541238649054306471590320181  1788.189515026914925208543225  3.015034137314328118849698143  0.001985683061751458845973221176  179.9128610267942502983366083  0.9516350907614989312942233963                       1\n",
      "2023-08-17 23:57:00  1879.301409708645126769263271    0  0.0541238649054306471590320181  1788.192904696745407584064133  3.015047714513789992936375562  0.001987688661354324763535360860  179.9128610267942502983366083  0.9516350907614989312942233963                       1\n",
      "2023-08-17 23:58:00  1879.644848245658284252726887    0  0.0541238649054306471590320181  1788.518120621671135004693517  3.019366030788522158532489880  0.001987688661354324763535360860  181.6272929273116334237402882  0.9506167181922112240670011915                       1\n",
      "2023-08-17 23:59:00  1879.644848245658284252726887    0  0.0541238649054306471590320181  1788.518120621671135004693517  3.019366030788522158532489880  0.001987688661354324763535360860  181.6272929273116334237402882  0.9506167181922112240670011915                       1\n",
      "\n",
      "[7200 rows x 9 columns]\n",
      "Evaluating indicator\n",
      "max_draw_down:0.1118497282894743713935604770; annualized_returns:-0.9892268272659849956667933363; net_value:0.9398224241228291421263634435; profit:-120.355151754341715747273113; net_value_up_down_rate:-0.0601775758771708578736365565; eth_up_down_rate:-0.08898447514180891167240456340; position_fee_profit:5083.617992671659727507274444; position_fee_annualized_returns:927.7602836625779002700775860; position_market_time_rate:1\n"
     ]
    },
    {
     "data": {
      "text/plain": "['./result/backtest-20231103-100651.account.csv',\n './result/backtest-20231103-100651.action.json',\n './result/backtest-20231103-100651.action.pkl']"
     },
     "execution_count": 8,
     "metadata": {},
     "output_type": "execute_result"
    }
   ],
   "source": [
    "actuator.run(evaluator=[\n",
    "        EvaluatorEnum.max_draw_down,\n",
    "        EvaluatorEnum.annualized_returns,\n",
    "        EvaluatorEnum.net_value,\n",
    "        EvaluatorEnum.profit,\n",
    "        EvaluatorEnum.net_value_up_down_rate,\n",
    "        EvaluatorEnum.eth_up_down_rate,\n",
    "        EvaluatorEnum.position_fee_profit,\n",
    "        EvaluatorEnum.position_fee_annualized_returns,\n",
    "        EvaluatorEnum.position_market_time_rate,\n",
    "    ])\n",
    "# get result\n",
    "evaluating_result: Dict[EvaluatorEnum, Decimal] = actuator.evaluating_indicator\n",
    "\n",
    "actuator.save_result(\n",
    "    path=\"./result\",  # save path\n",
    "    account=True,  # save account status list as a csv file\n",
    "    actions=True,  # save actions as a json file and a pickle file\n",
    ")"
   ],
   "metadata": {
    "collapsed": false,
    "ExecuteTime": {
     "end_time": "2023-11-03T02:06:51.363339Z",
     "start_time": "2023-11-03T02:06:46.381828Z"
    }
   }
  },
  {
   "cell_type": "code",
   "execution_count": 9,
   "outputs": [
    {
     "name": "stderr",
     "output_type": "stream",
     "text": [
      "/var/folders/n6/c_55zk7d3nqb3jhk31yv_60r0000gn/T/ipykernel_95170/822488339.py:24: UserWarning: FigureCanvasAgg is non-interactive, and thus cannot be shown\n",
      "  fig.show()\n"
     ]
    },
    {
     "data": {
      "text/plain": "<Figure size 640x480 with 2 Axes>",
      "image/png": "[encoded data removed]"
     },
     "metadata": {},
     "output_type": "display_data"
    }
   ],
   "source": [
    "plot_position_return_decomposition(actuator.get_account_status_dataframe(), actuator.token_prices[eth.name], market_key)"
   ],
   "metadata": {
    "collapsed": false,
    "ExecuteTime": {
     "end_time": "2023-11-03T02:06:52.025277Z",
     "start_time": "2023-11-03T02:06:51.366424Z"
    }
   }
  }
 ],
 "metadata": {
  "kernelspec": {
   "display_name": "Python 3",
   "language": "python",
   "name": "python3"
  },
  "language_info": {
   "codemirror_mode": {
    "name": "ipython",
    "version": 2
   },
   "file_extension": ".py",
   "mimetype": "text/x-python",
   "name": "python",
   "nbconvert_exporter": "python",
   "pygments_lexer": "ipython2",
   "version": "2.7.6"
  }
 },
 "nbformat": 4,
 "nbformat_minor": 0
}
