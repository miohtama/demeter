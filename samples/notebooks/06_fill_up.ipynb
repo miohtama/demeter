{
 "cells": [
  {
   "cell_type": "markdown",
   "source": [
    "# Fill up\n",
    "This is another strategy trying to solve the problem of 4.4. The first interval is [pc − a, pc + a]. The second interval is [pc, pc + a] or [pc − a, pc], depending on which asset is leftover."
   ],
   "metadata": {
    "collapsed": false
   }
  },
  {
   "cell_type": "markdown",
   "source": [
    "Import code dependencies"
   ],
   "metadata": {
    "collapsed": false
   }
  },
  {
   "cell_type": "code",
   "execution_count": 9,
   "outputs": [],
   "source": [
    "from typing import List\n",
    "\n",
    "import pandas as pd\n",
    "from matplotlib.pylab import plt\n",
    "import matplotlib.dates as mdates\n",
    "\n",
    "from demeter import MarketInfo\n",
    "from demeter.broker import AccountStatus"
   ],
   "metadata": {
    "collapsed": false,
    "ExecuteTime": {
     "end_time": "2023-11-03T02:17:23.682279Z",
     "start_time": "2023-11-03T02:17:23.620506Z"
    }
   }
  },
  {
   "cell_type": "markdown",
   "source": [
    "Set matplotlib to show formatted account status"
   ],
   "metadata": {
    "collapsed": false
   }
  },
  {
   "cell_type": "code",
   "execution_count": 10,
   "outputs": [],
   "source": [
    "def plotter(account_status_list: List[AccountStatus]):\n",
    "    net_value_ts = [status.net_value for status in account_status_list]\n",
    "    time_ts = [status.timestamp for status in account_status_list]\n",
    "    plt.plot(time_ts, net_value_ts)\n",
    "    plt.show()"
   ],
   "metadata": {
    "collapsed": false,
    "ExecuteTime": {
     "end_time": "2023-11-03T02:17:23.711530Z",
     "start_time": "2023-11-03T02:17:23.628759Z"
    }
   }
  },
  {
   "cell_type": "markdown",
   "source": [
    "Make plot about price and account value / position net value"
   ],
   "metadata": {
    "collapsed": false
   }
  },
  {
   "cell_type": "code",
   "execution_count": 11,
   "outputs": [],
   "source": [
    "def plot_position_return_decomposition(account_status: pd.DataFrame, price: pd.Series, market: MarketInfo):\n",
    "    fig, value_ax = plt.subplots()\n",
    "    day = mdates.DayLocator(interval=2)\n",
    "\n",
    "    price_ax = value_ax.twinx()\n",
    "    price_ax.xaxis.set_major_locator(day)\n",
    "    price_ax.xaxis.set_major_formatter(mdates.DateFormatter('%m-%d'))\n",
    "    value_ax.set_xlabel('time')\n",
    "    value_ax.set_ylabel('value', color='g')\n",
    "    price_ax.set_ylabel('price', color='b')\n",
    "\n",
    "    net_value_ts = list(account_status.net_value)\n",
    "    time_ts = list(account_status.index)\n",
    "    price_ts = list(price)\n",
    "\n",
    "    value_in_position = account_status[market.name + \"_net_value\"]\n",
    "    value_in_account = account_status[\"USDC\"] + account_status[\"ETH\"] * price\n",
    "\n",
    "    value_ax.plot(time_ts, net_value_ts, 'g-', label=\"net value\")\n",
    "    value_ax.plot(time_ts, value_in_position, 'r-', label=\"value in get_position\")\n",
    "    value_ax.plot(time_ts, value_in_account, 'b-', label=\"value in broker account\")\n",
    "    price_ax.plot(time_ts, price_ts, 'y-', label=\"price\")\n",
    "    fig.legend()\n",
    "    fig.show()"
   ],
   "metadata": {
    "collapsed": false,
    "ExecuteTime": {
     "end_time": "2023-11-03T02:17:23.712248Z",
     "start_time": "2023-11-03T02:17:23.637520Z"
    }
   }
  },
  {
   "cell_type": "markdown",
   "source": [
    "Add dependence about run Actuator"
   ],
   "metadata": {
    "collapsed": false
   }
  },
  {
   "cell_type": "code",
   "execution_count": 12,
   "outputs": [],
   "source": [
    "from datetime import date, timedelta\n",
    "from typing import Dict\n",
    "from _decimal import Decimal\n",
    "import pandas as pd\n",
    "\n",
    "from demeter import TokenInfo, Actuator, ChainType, MarketInfo, Strategy, PeriodTrigger, EvaluatorEnum, RowData\n",
    "from demeter.uniswap import UniLpMarket, UniV3Pool"
   ],
   "metadata": {
    "collapsed": false,
    "ExecuteTime": {
     "end_time": "2023-11-03T02:17:23.712589Z",
     "start_time": "2023-11-03T02:17:23.645188Z"
    }
   }
  },
  {
   "cell_type": "markdown",
   "source": [
    "Set pandas output format"
   ],
   "metadata": {
    "collapsed": false
   }
  },
  {
   "cell_type": "code",
   "execution_count": 13,
   "outputs": [],
   "source": [
    "pd.options.display.max_columns = None\n",
    "pd.set_option(\"display.width\", 5000)"
   ],
   "metadata": {
    "collapsed": false,
    "ExecuteTime": {
     "end_time": "2023-11-03T02:17:23.714241Z",
     "start_time": "2023-11-03T02:17:23.654205Z"
    }
   }
  },
  {
   "cell_type": "markdown",
   "source": [
    "Custom Full up strategy with code to add liquidity and use up all token at some side of price"
   ],
   "metadata": {
    "collapsed": false
   }
  },
  {
   "cell_type": "code",
   "execution_count": 14,
   "outputs": [],
   "source": [
    "class FillUpStrategy(Strategy):\n",
    "    def __init__(self, a=10):\n",
    "        super().__init__()\n",
    "        self.a = a\n",
    "\n",
    "    def initialize(self):\n",
    "        lp_market: UniLpMarket = self.broker.markets[market_key]\n",
    "        init_price = lp_market.market_status.data.price\n",
    "\n",
    "        lp_market.even_rebalance(init_price)  # rebalance all reserve token#\n",
    "        lp_market.add_liquidity(init_price - self.a, init_price + self.a)\n",
    "        if self.broker.assets[market.base_token].balance > 0:\n",
    "            lp_market.add_liquidity(init_price - self.a, init_price)\n",
    "        else:\n",
    "            lp_market.add_liquidity(init_price, init_price + self.a)\n",
    "        self.triggers.append(PeriodTrigger(time_delta=timedelta(days=1), do=self.work))\n",
    "\n",
    "    def work(self, row_data: RowData):\n",
    "        lp_market: UniLpMarket = self.broker.markets[market_key]\n",
    "        if len(lp_market.positions) > 0:\n",
    "            lp_market.remove_all_liquidity()\n",
    "            lp_market.even_rebalance(row_data.prices[eth.name])\n",
    "        lp_market.add_liquidity(row_data.prices[eth.name] - self.a, row_data.prices[eth.name] + self.a)\n",
    "        if self.broker.assets[market.base_token].balance > 0:\n",
    "            lp_market.add_liquidity(row_data.prices[eth.name] - self.a, row_data.prices[eth.name])\n",
    "        else:\n",
    "            lp_market.add_liquidity(row_data.prices[eth.name], row_data.prices[eth.name] + self.a)\n",
    "\n"
   ],
   "metadata": {
    "collapsed": false,
    "ExecuteTime": {
     "end_time": "2023-11-03T02:17:23.714556Z",
     "start_time": "2023-11-03T02:17:23.667969Z"
    }
   }
  },
  {
   "cell_type": "markdown",
   "source": [
    "Main logic to run Actuator, init two token and market with key \"market1\""
   ],
   "metadata": {
    "collapsed": false
   }
  },
  {
   "cell_type": "code",
   "execution_count": 15,
   "outputs": [
    {
     "name": "stderr",
     "output_type": "stream",
     "text": [
      "2023-11-03 10:17:23,677 - INFO - start load files from 2023-08-13 to 2023-08-17...\n",
      "2023-11-03 10:17:23,741 - INFO - load file complete, preparing...\n",
      "2023-11-03 10:17:24,057 - INFO - data has been prepared\n"
     ]
    }
   ],
   "source": [
    "usdc = TokenInfo(name=\"usdc\", decimal=6)  # declare  token0\n",
    "eth = TokenInfo(name=\"eth\", decimal=18)  # declare token1\n",
    "pool = UniV3Pool(usdc, eth, 0.05, usdc)  # declare pool\n",
    "market_key = MarketInfo(\"market1\")\n",
    "\n",
    "actuator = Actuator()  # declare actuator\n",
    "broker = actuator.broker\n",
    "market = UniLpMarket(market_key, pool)\n",
    "\n",
    "broker.add_market(market)\n",
    "broker.set_balance(usdc, 2000)\n",
    "broker.set_balance(eth, 0)\n",
    "\n",
    "actuator.strategy = FillUpStrategy(200)\n",
    "\n",
    "market.data_path = \"../data\"\n",
    "market.load_data(ChainType.polygon.name, \"0x45dda9cb7c25131df268515131f647d726f50608\", date(2023, 8, 13), date(2023, 8, 17))\n",
    "actuator.set_price(market.get_price_from_data())\n",
    "# actuator.run()  # run test"
   ],
   "metadata": {
    "collapsed": false,
    "ExecuteTime": {
     "end_time": "2023-11-03T02:17:24.210276Z",
     "start_time": "2023-11-03T02:17:23.681686Z"
    }
   }
  },
  {
   "cell_type": "markdown",
   "source": [
    "Run actuator with evaluators and save result to files"
   ],
   "metadata": {
    "collapsed": false
   }
  },
  {
   "cell_type": "code",
   "execution_count": 16,
   "outputs": [
    {
     "name": "stderr",
     "output_type": "stream",
     "text": [
      "2023-11-03 10:17:24,206 - INFO - init strategy...\n",
      "2023-11-03 10:17:24,210 - INFO - start main loop...\n",
      "100%|███████████████████████████████████████████████████████████████████████████████████████████████████████████| 7200/7200 [00:05<00:00, 1332.64it/s]\n",
      "2023-11-03 10:17:29,617 - INFO - main loop finished\n",
      "2023-11-03 10:17:29,668 - INFO - Start calculate evaluating indicator...\n",
      "/Users/florije/PycharmProjects/demeter/demeter/core/evaluating_indicator.py:85: SettingWithCopyWarning: \n",
      "A value is trying to be set on a copy of a slice from a DataFrame\n",
      "\n",
      "See the caveats in the documentation: https://pandas.pydata.org/pandas-docs/stable/user_guide/indexing.html#returning-a-view-versus-a-copy\n",
      "  fee_df.sort_values(by=[\"market1_base_uncollected\", \"market1_quote_uncollected\"], ascending=[False, False], inplace=True)\n",
      "2023-11-03 10:17:29,749 - INFO - Evaluating indicator has finished it's job.\n",
      "2023-11-03 10:17:29,750 - INFO - Print actuator summary\n",
      "2023-11-03 10:17:29,761 - INFO - Backtesting finished, execute time 5.5565268993377686s\n",
      "2023-11-03 10:17:29,843 - INFO - files have saved to ./result/backtest-20231103-101729.account.csv,./result/backtest-20231103-101729.action.json,./result/backtest-20231103-101729.action.pkl\n"
     ]
    },
    {
     "name": "stdout",
     "output_type": "stream",
     "text": [
      "\u001B[7;31mFinal account status                              \u001B[0m\n",
      "\u001B[7;35mToken balance in broker       \u001B[0m\n",
      "\u001B[34mUSDC      \u001B[0m:0                        \u001B[34mETH       \u001B[0m:0                        \n",
      "\u001B[7;35mPosition value in markets     \u001B[0m\n",
      "\u001B[4;33mmarket1(UniLpMarket)\u001B[0m\n",
      "\u001B[34mtoken0    \u001B[0m:USDC                     \u001B[34mtoken1    \u001B[0m:ETH                      \u001B[34mfee       \u001B[0m:0.0500                   \u001B[34mis 0 base \u001B[0m:True                     \n",
      "\u001B[34mpositions \u001B[0m\n",
      "   lower_tick  upper_tick                           pending0                          pending1        liquidity\n",
      "0      200278      202501      3.183117833627089316512033825  0.002055570537245655583993704614  408403430688071\n",
      "1      200278      201328  0.0003456541075595724088537967729  2.291805760929336408364821771E-7   46475125715085\n",
      "\n",
      "\u001B[7;31mAccount balance history                           \u001B[0m\n",
      "                                         net_value USDC ETH              market1_net_value       market1_base_uncollected         market1_quote_uncollected       market1_base_in_position       market1_quote_in_position  market1_position_count\n",
      "2023-08-13 00:00:00  1999.500191348747454069660469    0   0  1999.500191348747454069660469                          0E-36  1.035367279939123991082663728E-7  999.4999999999980797769467846  0.5410891236831318466024115436                       2\n",
      "2023-08-13 00:01:00  1999.500191348747454069660469    0   0  1999.500191348747454069660469                          0E-36  1.035367279939123991082663728E-7  999.4999999999980797769467846  0.5410891236831318466024115436                       2\n",
      "2023-08-13 00:02:00  1999.500191404535879170473112    0   0  1999.500191404535879170473112                          0E-36  1.035669145039618599063388596E-7  999.4999999999980797769467846  0.5410891236831318466024115436                       2\n",
      "2023-08-13 00:03:00  1999.500205179928537563387648    0   0  1999.500205179928537563387648                          0E-36  1.110206296458827421289554718E-7  999.4999999999980797769467846  0.5410891236831318466024115436                       2\n",
      "2023-08-13 00:04:00  1999.500232710983474239540085    0   0  1999.500232710983474239540085                          0E-36  1.259173840356410265321362577E-7  999.4999999999980797769467846  0.5410891236831318466024115436                       2\n",
      "...                                            ...  ...  ..                            ...                            ...                               ...                            ...                             ...                     ...\n",
      "2023-08-17 23:55:00  1895.508304318523814246129877    0   0  1895.508304318523814246129877  3.178563208788233185664978814  0.002053839634405536391413202036  384.2107036101816947665868734  0.8940376602615966070418014301                       2\n",
      "2023-08-17 23:56:00  1895.810442358200411028325420    0   0  1895.810442358200411028325420  3.179229904597863915571858391  0.002053839634405536391413202036  385.8861518433785628338283861  0.8930422449379544558668108395                       2\n",
      "2023-08-17 23:57:00  1895.813755100988986088698844    0   0  1895.813755100988986088698844  3.179243173668851861290444064  0.002055799717821748517634541096  385.8861518433785628338283861  0.8930422449379544558668108395                       2\n",
      "2023-08-17 23:58:00  1896.119172592977370217542693    0   0  1896.119172592977370217542693  3.183463487734648888920887622  0.002055799717821748517634541096   387.561767621398750587876631  0.8920469291458915109863082944                       2\n",
      "2023-08-17 23:59:00  1896.119172592977370217542693    0   0  1896.119172592977370217542693  3.183463487734648888920887622  0.002055799717821748517634541096   387.561767621398750587876631  0.8920469291458915109863082944                       2\n",
      "\n",
      "[7200 rows x 9 columns]\n",
      "Evaluating indicator\n",
      "max_draw_down:0.1014907503364222189349665770; annualized_returns:-0.9796295192680836243239818408; net_value:0.9480595862964886851087713465; profit:-103.880827407022629782457307; net_value_up_down_rate:-0.0519404137035113148912286535; eth_up_down_rate:-0.08898447514180891167240456340; position_fee_profit:5359.904026115140876108197852; position_fee_annualized_returns:978.0466260875734824475362031; position_market_time_rate:0.999861111111111089400083073996938765048980712890625\n"
     ]
    },
    {
     "data": {
      "text/plain": "['./result/backtest-20231103-101729.account.csv',\n './result/backtest-20231103-101729.action.json',\n './result/backtest-20231103-101729.action.pkl']"
     },
     "execution_count": 16,
     "metadata": {},
     "output_type": "execute_result"
    }
   ],
   "source": [
    "actuator.run(evaluator=[\n",
    "    EvaluatorEnum.max_draw_down,\n",
    "    EvaluatorEnum.annualized_returns,\n",
    "    EvaluatorEnum.net_value,\n",
    "    EvaluatorEnum.profit,\n",
    "    EvaluatorEnum.net_value_up_down_rate,\n",
    "    EvaluatorEnum.eth_up_down_rate,\n",
    "    EvaluatorEnum.position_fee_profit,\n",
    "    EvaluatorEnum.position_fee_annualized_returns,\n",
    "    EvaluatorEnum.position_market_time_rate,\n",
    "])\n",
    "evaluating_result: Dict[EvaluatorEnum, Decimal] = actuator.evaluating_indicator\n",
    "\n",
    "actuator.save_result(\n",
    "    path=\"./result\",  # save path\n",
    "    account=True,  # save account status list as a csv file\n",
    "    actions=True,  # save actions as a json file and a pickle file\n",
    ")"
   ],
   "metadata": {
    "collapsed": false,
    "ExecuteTime": {
     "end_time": "2023-11-03T02:17:29.859890Z",
     "start_time": "2023-11-03T02:17:24.206531Z"
    }
   }
  },
  {
   "cell_type": "markdown",
   "source": [
    "Make plot about output net value、value in position、value in account and price"
   ],
   "metadata": {
    "collapsed": false
   }
  },
  {
   "cell_type": "code",
   "execution_count": 17,
   "outputs": [
    {
     "name": "stderr",
     "output_type": "stream",
     "text": [
      "/var/folders/n6/c_55zk7d3nqb3jhk31yv_60r0000gn/T/ipykernel_95265/822488339.py:24: UserWarning: FigureCanvasAgg is non-interactive, and thus cannot be shown\n",
      "  fig.show()\n"
     ]
    },
    {
     "data": {
      "text/plain": "<Figure size 640x480 with 2 Axes>",
      "image/png": "[encoded data removed]"
     },
     "metadata": {},
     "output_type": "display_data"
    }
   ],
   "source": [
    "plot_position_return_decomposition(actuator.get_account_status_dataframe(), actuator.token_prices[eth.name], market_key)"
   ],
   "metadata": {
    "collapsed": false,
    "ExecuteTime": {
     "end_time": "2023-11-03T02:17:30.954900Z",
     "start_time": "2023-11-03T02:17:29.912014Z"
    }
   }
  }
 ],
 "metadata": {
  "kernelspec": {
   "display_name": "Python 3",
   "language": "python",
   "name": "python3"
  },
  "language_info": {
   "codemirror_mode": {
    "name": "ipython",
    "version": 2
   },
   "file_extension": ".py",
   "mimetype": "text/x-python",
   "name": "python",
   "nbconvert_exporter": "python",
   "pygments_lexer": "ipython2",
   "version": "2.7.6"
  }
 },
 "nbformat": 4,
 "nbformat_minor": 0
}
