{
 "cells": [
  {
   "cell_type": "markdown",
   "source": [
    "# Two Intervals Around the Current Price\n",
    "This strategy aims to fix the problem of having leftover liquidity. The first interval is the same as in the interval around the current price strategy 4.4, namely [pc − a, pc + a]. Let b be a paramter and b ∈ [10, 1000], then the second interval will either be [pc, pc +b] or [pc −b, pc], depending on which asset is leftover [4]. This will allow us to use up all our liquidity."
   ],
   "metadata": {
    "collapsed": false
   }
  },
  {
   "cell_type": "markdown",
   "source": [
    "Import code dependencies"
   ],
   "metadata": {
    "collapsed": false
   }
  },
  {
   "cell_type": "code",
   "execution_count": 1,
   "outputs": [],
   "source": [
    "from typing import List\n",
    "\n",
    "import pandas as pd\n",
    "from matplotlib.pylab import plt\n",
    "import matplotlib.dates as mdates\n",
    "\n",
    "from demeter import MarketInfo\n",
    "from demeter.broker import AccountStatus"
   ],
   "metadata": {
    "collapsed": false,
    "ExecuteTime": {
     "end_time": "2023-11-03T02:14:54.730140Z",
     "start_time": "2023-11-03T02:14:53.164655Z"
    }
   }
  },
  {
   "cell_type": "markdown",
   "source": [
    "Set matplotlib to show formatted account status"
   ],
   "metadata": {
    "collapsed": false
   }
  },
  {
   "cell_type": "code",
   "execution_count": 2,
   "outputs": [],
   "source": [
    "def plotter(account_status_list: List[AccountStatus]):\n",
    "    net_value_ts = [status.net_value for status in account_status_list]\n",
    "    time_ts = [status.timestamp for status in account_status_list]\n",
    "    plt.plot(time_ts, net_value_ts)\n",
    "    plt.show()"
   ],
   "metadata": {
    "collapsed": false,
    "ExecuteTime": {
     "end_time": "2023-11-03T02:14:54.740449Z",
     "start_time": "2023-11-03T02:14:54.734874Z"
    }
   }
  },
  {
   "cell_type": "markdown",
   "source": [
    "Make plot about price and account value / position net value"
   ],
   "metadata": {
    "collapsed": false
   }
  },
  {
   "cell_type": "code",
   "execution_count": 3,
   "outputs": [],
   "source": [
    "def plot_position_return_decomposition(account_status: pd.DataFrame, price: pd.Series, market: MarketInfo):\n",
    "    fig, value_ax = plt.subplots()\n",
    "    day = mdates.DayLocator(interval=2)\n",
    "\n",
    "    price_ax = value_ax.twinx()\n",
    "    price_ax.xaxis.set_major_locator(day)\n",
    "    price_ax.xaxis.set_major_formatter(mdates.DateFormatter('%m-%d'))\n",
    "    value_ax.set_xlabel('time')\n",
    "    value_ax.set_ylabel('value', color='g')\n",
    "    price_ax.set_ylabel('price', color='b')\n",
    "\n",
    "    net_value_ts = list(account_status.net_value)\n",
    "    time_ts = list(account_status.index)\n",
    "    price_ts = list(price)\n",
    "\n",
    "    value_in_position = account_status[market.name + \"_net_value\"]\n",
    "    value_in_account = account_status[\"USDC\"] + account_status[\"ETH\"] * price\n",
    "\n",
    "    value_ax.plot(time_ts, net_value_ts, 'g-', label=\"net value\")\n",
    "    value_ax.plot(time_ts, value_in_position, 'r-', label=\"value in get_position\")\n",
    "    value_ax.plot(time_ts, value_in_account, 'b-', label=\"value in broker account\")\n",
    "    price_ax.plot(time_ts, price_ts, 'y-', label=\"price\")\n",
    "    fig.legend()\n",
    "    fig.show()"
   ],
   "metadata": {
    "collapsed": false,
    "ExecuteTime": {
     "end_time": "2023-11-03T02:14:54.757983Z",
     "start_time": "2023-11-03T02:14:54.746313Z"
    }
   }
  },
  {
   "cell_type": "markdown",
   "source": [
    "Add dependence about run Actuator"
   ],
   "metadata": {
    "collapsed": false
   }
  },
  {
   "cell_type": "code",
   "execution_count": 4,
   "outputs": [],
   "source": [
    "from datetime import timedelta, date\n",
    "from typing import Dict\n",
    "from _decimal import Decimal\n",
    "import pandas as pd\n",
    "\n",
    "from demeter import TokenInfo, Actuator, ChainType, MarketInfo, Strategy, PeriodTrigger, EvaluatorEnum, RowData\n",
    "from demeter.uniswap import UniV3Pool, UniLpMarket"
   ],
   "metadata": {
    "collapsed": false,
    "ExecuteTime": {
     "end_time": "2023-11-03T02:14:54.758707Z",
     "start_time": "2023-11-03T02:14:54.752898Z"
    }
   }
  },
  {
   "cell_type": "markdown",
   "source": [
    "Set pandas output format"
   ],
   "metadata": {
    "collapsed": false
   }
  },
  {
   "cell_type": "code",
   "execution_count": 5,
   "outputs": [],
   "source": [
    "pd.options.display.max_columns = None\n",
    "pd.set_option(\"display.width\", 5000)"
   ],
   "metadata": {
    "collapsed": false,
    "ExecuteTime": {
     "end_time": "2023-11-03T02:14:54.778225Z",
     "start_time": "2023-11-03T02:14:54.761818Z"
    }
   }
  },
  {
   "cell_type": "markdown",
   "source": [
    "Custom Two Intervals Around the Current Price strategy with code to add liquidity at constant interval around current price."
   ],
   "metadata": {
    "collapsed": false
   }
  },
  {
   "cell_type": "code",
   "execution_count": 6,
   "outputs": [],
   "source": [
    "class TwoIntervalsAroundtheCurrentPriceStrategy(Strategy):\n",
    "    def __init__(self, a=10, b=1, update_interval=timedelta(days=1)):\n",
    "        super().__init__()\n",
    "        self.a = a\n",
    "        self.b = b\n",
    "\n",
    "    def initialize(self):\n",
    "        lp_market: UniLpMarket = self.broker.markets[market_key]\n",
    "        init_price = lp_market.market_status.data.price\n",
    "\n",
    "        lp_market.add_liquidity(init_price - self.a, init_price + self.a)\n",
    "        if self.broker.assets[market.base_token].balance > 0:\n",
    "            lp_market.add_liquidity(init_price - self.b, init_price)\n",
    "        else:\n",
    "            lp_market.add_liquidity(init_price, init_price + self.b)\n",
    "        self.triggers.append(PeriodTrigger(time_delta=timedelta(days=1), do=self.work))\n",
    "\n",
    "    def work(self, row_data: RowData):\n",
    "        lp_market: UniLpMarket = self.broker.markets[market_key]\n",
    "\n",
    "        if len(lp_market.positions) > 0:\n",
    "            lp_market.remove_all_liquidity()\n",
    "            lp_market.even_rebalance(row_data.prices[eth.name])\n",
    "\n",
    "        if self.broker.assets[market.base_token].balance > 0:\n",
    "            lp_market.add_liquidity(row_data.prices[eth.name] - self.b, row_data.prices[eth.name])\n",
    "        else:\n",
    "            lp_market.add_liquidity(row_data.prices[eth.name], row_data.prices[eth.name] + row_data.prices[eth.name] + self.b)\n"
   ],
   "metadata": {
    "collapsed": false,
    "ExecuteTime": {
     "end_time": "2023-11-03T02:14:54.786043Z",
     "start_time": "2023-11-03T02:14:54.772389Z"
    }
   }
  },
  {
   "cell_type": "markdown",
   "source": [
    "Main logic to run Actuator, init two token and market with key \"market1\""
   ],
   "metadata": {
    "collapsed": false
   }
  },
  {
   "cell_type": "code",
   "execution_count": 7,
   "outputs": [
    {
     "name": "stderr",
     "output_type": "stream",
     "text": [
      "2023-11-03 10:14:54,782 - INFO - start load files from 2023-08-13 to 2023-08-17...\n",
      "2023-11-03 10:14:54,849 - INFO - load file complete, preparing...\n",
      "2023-11-03 10:14:55,167 - INFO - data has been prepared\n"
     ]
    }
   ],
   "source": [
    "usdc = TokenInfo(name=\"usdc\", decimal=6)  # declare  token0\n",
    "eth = TokenInfo(name=\"eth\", decimal=18)  # declare token1\n",
    "pool = UniV3Pool(usdc, eth, 0.05, usdc)  # declare pool\n",
    "market_key = MarketInfo(\"market1\")\n",
    "\n",
    "actuator = Actuator()  # declare actuator\n",
    "broker = actuator.broker\n",
    "market = UniLpMarket(market_key, pool)\n",
    "\n",
    "broker.add_market(market)\n",
    "broker.set_balance(usdc, 2000)\n",
    "broker.set_balance(eth, 0)\n",
    "\n",
    "actuator.strategy = TwoIntervalsAroundtheCurrentPriceStrategy(400, 200)\n",
    "\n",
    "market.data_path = \"../data\"\n",
    "market.load_data(ChainType.polygon.name, \"0x45dda9cb7c25131df268515131f647d726f50608\", date(2023, 8, 13), date(2023, 8, 17))\n",
    "actuator.set_price(market.get_price_from_data())\n",
    "# actuator.run()  # run test"
   ],
   "metadata": {
    "collapsed": false,
    "ExecuteTime": {
     "end_time": "2023-11-03T02:14:55.180985Z",
     "start_time": "2023-11-03T02:14:54.784549Z"
    }
   }
  },
  {
   "cell_type": "markdown",
   "source": [
    "Run actuator with evaluators and save result to files"
   ],
   "metadata": {
    "collapsed": false
   }
  },
  {
   "cell_type": "code",
   "execution_count": 8,
   "outputs": [
    {
     "name": "stderr",
     "output_type": "stream",
     "text": [
      "2023-11-03 10:14:55,183 - INFO - init strategy...\n",
      "2023-11-03 10:14:55,187 - INFO - start main loop...\n",
      "100%|███████████████████████████████████████████████████████████████████████████████████████████████████████████| 7200/7200 [00:04<00:00, 1539.07it/s]\n",
      "2023-11-03 10:14:59,893 - INFO - main loop finished\n",
      "2023-11-03 10:14:59,945 - INFO - Start calculate evaluating indicator...\n",
      "/Users/florije/PycharmProjects/demeter/demeter/core/evaluating_indicator.py:85: SettingWithCopyWarning: \n",
      "A value is trying to be set on a copy of a slice from a DataFrame\n",
      "\n",
      "See the caveats in the documentation: https://pandas.pydata.org/pandas-docs/stable/user_guide/indexing.html#returning-a-view-versus-a-copy\n",
      "  fee_df.sort_values(by=[\"market1_base_uncollected\", \"market1_quote_uncollected\"], ascending=[False, False], inplace=True)\n",
      "2023-11-03 10:15:00,015 - INFO - Evaluating indicator has finished it's job.\n",
      "2023-11-03 10:15:00,016 - INFO - Print actuator summary\n",
      "2023-11-03 10:15:00,029 - INFO - Backtesting finished, execute time 4.846283912658691s\n",
      "2023-11-03 10:15:00,119 - INFO - files have saved to ./result/backtest-20231103-101500.account.csv,./result/backtest-20231103-101500.action.json,./result/backtest-20231103-101500.action.pkl\n"
     ]
    },
    {
     "name": "stdout",
     "output_type": "stream",
     "text": [
      "\u001B[7;31mFinal account status                              \u001B[0m\n",
      "\u001B[7;35mToken balance in broker       \u001B[0m\n",
      "\u001B[34mUSDC      \u001B[0m:0                        \u001B[34mETH       \u001B[0m:0.5484461981970613597932912391\n",
      "\u001B[7;35mPosition value in markets     \u001B[0m\n",
      "\u001B[4;33mmarket1(UniLpMarket)\u001B[0m\n",
      "\u001B[34mtoken0    \u001B[0m:USDC                     \u001B[34mtoken1    \u001B[0m:ETH                      \u001B[34mfee       \u001B[0m:0.0500                   \u001B[34mis 0 base \u001B[0m:True                     \n",
      "\u001B[34mpositions \u001B[0m\n",
      "   lower_tick  upper_tick                       pending0                          pending1        liquidity\n",
      "0      201328      202501  3.189328974092320055545237895  0.002059715427735790766147000412  409238750694668\n",
      "\n",
      "\u001B[7;31mAccount balance history                           \u001B[0m\n",
      "                                         net_value USDC                             ETH              market1_net_value       market1_base_uncollected         market1_quote_uncollected       market1_base_in_position       market1_quote_in_position  market1_position_count\n",
      "2023-08-13 00:00:00  2000.000344535910899686023786    0                               0  2000.000344535910899686023786                          0E-35  1.864246352288662449417054944E-7  1999.999999999997924953230472                               0                       2\n",
      "2023-08-13 00:01:00  2000.000344535910899686023786    0                               0  2000.000344535910899686023786                          0E-35  1.864246352288662449417054944E-7  1999.999999999997924953230472                               0                       2\n",
      "2023-08-13 00:02:00  2000.000344636361599654284577    0                               0  2000.000344636361599654284577                          0E-35  1.864789880100854284614880136E-7  1999.999999999997924953230472                               0                       2\n",
      "2023-08-13 00:03:00  2000.000369439855019171027833    0                               0  2000.000369439855019171027833                          0E-35  1.998998885287320921709210193E-7  1999.999999999997924953230472                               0                       2\n",
      "2023-08-13 00:04:00  2000.000419011316021275520301    0                               0  2000.000419011316021275520301                          0E-35  2.267224669220534003277501095E-7  1999.999999999997924953230472                               0                       2\n",
      "...                                            ...  ...                             ...                            ...                            ...                               ...                            ...                             ...                     ...\n",
      "2023-08-17 23:55:00  1899.384113061547082266565522    0  0.5484461981970613597932912391  976.3509711990975308673907020  3.184418339549762028498436163  0.002057751202116418797735245556  384.9965414934080494689441795  0.3474200649209286274422659408                       1\n",
      "2023-08-17 23:56:00  1899.686869021440367466491920    0  0.5484461981970613597932912391  976.4691113002869075325417516  3.185086444273659602592117052  0.002057751202116418797735245556  386.6754165720328538952605469  0.3464226136439319448517361746                       1\n",
      "2023-08-17 23:57:00  1899.690188764978774438611801    0  0.5484461981970613597932912391  976.4724310438253145046616322  3.185099741385896874656110974  0.002059715427735790766147000412  386.6754165720328538952605469  0.3464226136439319448517361746                       1\n",
      "2023-08-17 23:58:00  1899.996231126175620839369668    0  0.5484461981970613597932912391  976.5938206213003530018981097  3.189328974092320055545237895  0.002059715427735790766147000412  388.3544595381655208020195541  0.3454252621020894465110404731                       1\n",
      "2023-08-17 23:59:00  1899.996231126175620839369668    0  0.5484461981970613597932912391  976.5938206213003530018981097  3.189328974092320055545237895  0.002059715427735790766147000412  388.3544595381655208020195541  0.3454252621020894465110404731                       1\n",
      "\n",
      "[7200 rows x 9 columns]\n",
      "Evaluating indicator\n",
      "max_draw_down:0.1001954597680255652758552542; annualized_returns:-0.9763538577214282152897278733; net_value:0.949998115563087810419684834; profit:-100.003768873824379160630332; net_value_up_down_rate:-0.050001884436912189580315166; eth_up_down_rate:-0.08898447514180891167240456340; position_fee_profit:5369.779573446525864681772148; position_fee_annualized_returns:979.8486631578584681670296973; position_market_time_rate:0.999861111111111089400083073996938765048980712890625\n"
     ]
    },
    {
     "data": {
      "text/plain": "['./result/backtest-20231103-101500.account.csv',\n './result/backtest-20231103-101500.action.json',\n './result/backtest-20231103-101500.action.pkl']"
     },
     "execution_count": 8,
     "metadata": {},
     "output_type": "execute_result"
    }
   ],
   "source": [
    "actuator.run(evaluator=[\n",
    "        EvaluatorEnum.max_draw_down,\n",
    "        EvaluatorEnum.annualized_returns,\n",
    "        EvaluatorEnum.net_value,\n",
    "        EvaluatorEnum.profit,\n",
    "        EvaluatorEnum.net_value_up_down_rate,\n",
    "        EvaluatorEnum.eth_up_down_rate,\n",
    "        EvaluatorEnum.position_fee_profit,\n",
    "        EvaluatorEnum.position_fee_annualized_returns,\n",
    "        EvaluatorEnum.position_market_time_rate,\n",
    "    ])\n",
    "evaluating_result: Dict[EvaluatorEnum, Decimal] = actuator.evaluating_indicator\n",
    "\n",
    "actuator.save_result(\n",
    "    path=\"./result\",  # save path\n",
    "    account=True,  # save account status list as a csv file\n",
    "    actions=True,  # save actions as a json file and a pickle file\n",
    ")"
   ],
   "metadata": {
    "collapsed": false,
    "ExecuteTime": {
     "end_time": "2023-11-03T02:15:00.134334Z",
     "start_time": "2023-11-03T02:14:55.185544Z"
    }
   }
  },
  {
   "cell_type": "markdown",
   "source": [
    "Make plot about output net value、value in position、value in account and price"
   ],
   "metadata": {
    "collapsed": false
   }
  },
  {
   "cell_type": "code",
   "execution_count": 9,
   "outputs": [
    {
     "name": "stderr",
     "output_type": "stream",
     "text": [
      "/var/folders/n6/c_55zk7d3nqb3jhk31yv_60r0000gn/T/ipykernel_95242/822488339.py:24: UserWarning: FigureCanvasAgg is non-interactive, and thus cannot be shown\n",
      "  fig.show()\n"
     ]
    },
    {
     "data": {
      "text/plain": "<Figure size 640x480 with 2 Axes>",
      "image/png": "[encoded data removed]"
     },
     "metadata": {},
     "output_type": "display_data"
    }
   ],
   "source": [
    "plot_position_return_decomposition(actuator.get_account_status_dataframe(), actuator.token_prices[eth.name], market_key)"
   ],
   "metadata": {
    "collapsed": false,
    "ExecuteTime": {
     "end_time": "2023-11-03T02:15:00.764354Z",
     "start_time": "2023-11-03T02:15:00.215110Z"
    }
   }
  }
 ],
 "metadata": {
  "kernelspec": {
   "display_name": "Python 3",
   "language": "python",
   "name": "python3"
  },
  "language_info": {
   "codemirror_mode": {
    "name": "ipython",
    "version": 2
   },
   "file_extension": ".py",
   "mimetype": "text/x-python",
   "name": "python",
   "nbconvert_exporter": "python",
   "pygments_lexer": "ipython2",
   "version": "2.7.6"
  }
 },
 "nbformat": 4,
 "nbformat_minor": 0
}
