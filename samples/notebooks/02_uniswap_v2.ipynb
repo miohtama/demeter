{
 "cells": [
  {
   "cell_type": "markdown",
   "source": [
    "# Uniswap V2\n",
    "For this strategy, we will provide the liquidity just as in Uniswap v2. We will provide liquidity in the interval [minTick, maxTick]."
   ],
   "metadata": {
    "collapsed": false
   }
  },
  {
   "cell_type": "markdown",
   "source": [
    "Import code dependencies"
   ],
   "metadata": {
    "collapsed": false
   }
  },
  {
   "cell_type": "code",
   "execution_count": 1,
   "outputs": [],
   "source": [
    "from _decimal import Decimal\n",
    "from datetime import date, datetime\n",
    "from typing import List, Dict\n",
    "import pandas as pd\n",
    "\n",
    "from demeter import TokenInfo, Actuator, Strategy, RowData, ChainType, MarketInfo, AtTimeTrigger, EvaluatorEnum\n",
    "from demeter.uniswap import UniV3Pool, UniLpMarket"
   ],
   "metadata": {
    "collapsed": false,
    "ExecuteTime": {
     "end_time": "2023-11-07T03:54:35.547385Z",
     "start_time": "2023-11-07T03:54:34.216365Z"
    }
   }
  },
  {
   "cell_type": "markdown",
   "source": [
    "Set pandas output format"
   ],
   "metadata": {
    "collapsed": false
   }
  },
  {
   "cell_type": "code",
   "execution_count": 2,
   "outputs": [],
   "source": [
    "pd.options.display.max_columns = None\n",
    "pd.set_option(\"display.width\", 5000)"
   ],
   "metadata": {
    "collapsed": false,
    "ExecuteTime": {
     "end_time": "2023-11-07T03:54:35.548131Z",
     "start_time": "2023-11-07T03:54:35.533988Z"
    }
   }
  },
  {
   "cell_type": "markdown",
   "source": [
    "Custom Uniswap V2 strategy with add liquidity from tick -887272(minTick) to 887272(maxTick)"
   ],
   "metadata": {
    "collapsed": false
   }
  },
  {
   "cell_type": "code",
   "execution_count": 3,
   "outputs": [],
   "source": [
    "class UniswapV2Strategy(Strategy):\n",
    "    def initialize(self):\n",
    "        \"\"\"\n",
    "        Initialize function will be called right before a backtest start.\n",
    "        You can do various things here, e.g. register a trigger, or add a simple moving average line.\n",
    "        \"\"\"\n",
    "        new_trigger = AtTimeTrigger(  # define a new trigger\n",
    "            time=datetime(2023, 8, 15, 12, 0, 0), do=self.work  # we will make the action happen at 12:00 20/8/22\n",
    "        )  # This is a callback function, defines what to do at this time.\n",
    "        self.triggers.append(new_trigger)  # Register our trigger\n",
    "\n",
    "    def work(self, row_data: RowData):\n",
    "        \"\"\"\n",
    "        When time is up, work function will be called.\n",
    "        \"\"\"\n",
    "        lp_market: UniLpMarket = self.markets[market_key]  # pick our market.\n",
    "        lp_market.add_liquidity_by_tick(-887272, 887272)  # add liquidity\n",
    "        pass"
   ],
   "metadata": {
    "collapsed": false,
    "ExecuteTime": {
     "end_time": "2023-11-07T03:54:35.555561Z",
     "start_time": "2023-11-07T03:54:35.548755Z"
    }
   }
  },
  {
   "cell_type": "markdown",
   "source": [
    "Main logic to run Actuator, init two token and market with key \"market1\""
   ],
   "metadata": {
    "collapsed": false
   }
  },
  {
   "cell_type": "code",
   "execution_count": 4,
   "outputs": [],
   "source": [
    "# Declare a token, and it's name will be used as unit of amounts.\n",
    "usdc = TokenInfo(name=\"usdc\", decimal=6)  # declare token usdc\n",
    "eth = TokenInfo(name=\"eth\", decimal=18)  # declare token eth\n",
    "# Declare an Uniswap V3 pool. We will set the parameters according to the real pool on chain.\n",
    "pool = UniV3Pool(token0=usdc, token1=eth, fee=0.05, base_token=usdc)\n",
    "\n",
    "# Declare a market key, which will be used to find the corresponding market in broker\n",
    "market_key = MarketInfo(\"market1\")\n",
    "# Declare the market,\n",
    "market = UniLpMarket(market_key, pool)  # uni_market:UniLpMarket, positions: 0, total liquidity: 0\n",
    "# load data for market. those data is prepared by download tool\n",
    "market.data_path = \"../data\"  # set data path\n",
    "market.load_data(\n",
    "    chain=ChainType.polygon.name,  # load data\n",
    "    contract_addr=\"0x45dda9cb7c25131df268515131f647d726f50608\",\n",
    "    start_date=date(2023, 8, 15),\n",
    "    end_date=date(2023, 8, 15),\n",
    ")\n",
    "\n",
    "# Declare the Actuator, which controls the whole process\n",
    "actuator = Actuator()  # declare actuator, Demeter Actuator (broker:assets: ; markets: )\n",
    "# add market to broker\n",
    "actuator.broker.add_market(market)\n",
    "# Initial some fund to broker.\n",
    "actuator.broker.set_balance(usdc, 10000)\n",
    "actuator.broker.set_balance(eth, 10)\n",
    "# Set strategy to actuator\n",
    "actuator.strategy = UniswapV2Strategy()  # set strategy to actuator\n",
    "# Set price. Those price will be used in all markets.\n",
    "# Usually, you will have to find the price list from outer source.\n",
    "# Luckily, uniswap pool data contains price information. So UniLpMarket provides a function to retrieve price list.\n",
    "actuator.set_price(market.get_price_from_data())\n",
    "# run test, If you use default parameter, final fund status will be printed in console.\n",
    "\n",
    "# actuator.run()"
   ],
   "metadata": {
    "collapsed": false,
    "ExecuteTime": {
     "end_time": "2023-11-07T03:54:35.668443Z",
     "start_time": "2023-11-07T03:54:35.586721Z"
    }
   }
  },
  {
   "cell_type": "markdown",
   "source": [
    "Run actuator with evaluators and save result to files"
   ],
   "metadata": {
    "collapsed": false
   }
  },
  {
   "cell_type": "code",
   "execution_count": 5,
   "outputs": [
    {
     "name": "stderr",
     "output_type": "stream",
     "text": [
      "2023-11-07 11:54:35,671 - INFO - init strategy...\n",
      "2023-11-07 11:54:35,676 - INFO - start main loop...\n",
      "100%|████████████████████████████████████████████████████████████████████████████████████████████████████████████| 1440/1440 [00:01<00:00, 963.76it/s]\n",
      "2023-11-07 11:54:37,214 - INFO - main loop finished\n",
      "2023-11-07 11:54:37,231 - INFO - Start calculate evaluating indicator...\n",
      "2023-11-07 11:54:37,258 - INFO - Evaluating indicator has finished it's job.\n",
      "2023-11-07 11:54:37,259 - INFO - Print actuator summary\n",
      "2023-11-07 11:54:37,277 - INFO - Backtesting finished, execute time 1.6068198680877686s\n",
      "2023-11-07 11:54:37,302 - INFO - files have saved to ./result/backtest-20231107-115437.account.csv,./result/backtest-20231107-115437.action.json,./result/backtest-20231107-115437.action.pkl\n"
     ]
    },
    {
     "name": "stdout",
     "output_type": "stream",
     "text": [
      "\u001B[7;31mFinal account status                              \u001B[0m\n",
      "\u001B[7;35mToken balance in broker       \u001B[0m\n",
      "\u001B[34mUSDC      \u001B[0m:0                        \u001B[34mETH       \u001B[0m:4.559268367491765739000718865\n",
      "\u001B[7;35mPosition value in markets     \u001B[0m\n",
      "\u001B[4;33mmarket1(UniLpMarket)\u001B[0m\n",
      "\u001B[34mtoken0    \u001B[0m:USDC                     \u001B[34mtoken1    \u001B[0m:ETH                      \u001B[34mfee       \u001B[0m:0.0500                   \u001B[34mis 0 base \u001B[0m:True                     \n",
      "\u001B[34mpositions \u001B[0m\n",
      "   lower_tick  upper_tick                         pending0                            pending1        liquidity\n",
      "0     -887272      887272  0.09661098059612027905748419379  0.00006585932223195622675445989508  233253759509000\n",
      "\n",
      "\u001B[7;31mAccount balance history                           \u001B[0m\n",
      "                                         net_value   USDC                            ETH              market1_net_value         market1_base_uncollected           market1_quote_uncollected       market1_base_in_position      market1_quote_in_position  market1_position_count\n",
      "2023-08-15 00:00:00  28436.94418788503400887972931  10000                             10                          0E-24                                0                                   0                              0                              0                       0\n",
      "2023-08-15 00:01:00  28436.94418788503400887972931  10000                             10                          0E-24                                0                                   0                              0                              0                       0\n",
      "2023-08-15 00:02:00  28436.94418788503400887972931  10000                             10                          0E-24                                0                                   0                              0                              0                       0\n",
      "2023-08-15 00:03:00  28436.94418788503400887972931  10000                             10                          0E-24                                0                                   0                              0                              0                       0\n",
      "2023-08-15 00:04:00  28436.94418788503400887972931  10000                             10                          0E-24                                0                                   0                              0                              0                       0\n",
      "...                                            ...    ...                            ...                            ...                              ...                                 ...                            ...                            ...                     ...\n",
      "2023-08-15 23:55:00  28273.72419649279968840819070      0  4.559268367491765739000718865  19942.30340525660201148503512  0.09660999266735345317637091359  0.00006560565377937862881195556117  9971.043455085935603995924304  5.456531863506298254398892979                       1\n",
      "2023-08-15 23:56:00  28273.72421815144538320938840      0  4.559268367491765739000718865  19942.30342691524770628623282  0.09661066137162747349819180998  0.00006561714026870058656731134519  9971.043455085935603995924304  5.456531863506298254398892979                       1\n",
      "2023-08-15 23:57:00  28273.72423051302228517629606      0  4.559268367491765739000718865  19942.30343927682460825314048  0.09661098059612027905748419379  0.00006562373029911497054810817405  9971.043455085935603995924304  5.456531863506298254398892979                       1\n",
      "2023-08-15 23:58:00  28270.06459341894728888761521      0  4.559268367491765739000718865  19940.30983643169463236829005  0.09661098059612027905748419379  0.00006585932223195622675445989508  9970.046450440891513580047607  5.457077516692648884224332869                       1\n",
      "2023-08-15 23:59:00  28270.06459341894728888761521      0  4.559268367491765739000718865  19940.30983643169463236829005  0.09661098059612027905748419379  0.00006585932223195622675445989508  9970.046450440891513580047607  5.457077516692648884224332869                       1\n",
      "\n",
      "[1440 rows x 9 columns]\n",
      "Evaluating indicator\n",
      "max_draw_down                      :0.00991671948823412;\n",
      "annualized_returns                 :-0.883315158239551;\n",
      "net_value                          :0.994131591869946;\n",
      "profit                             :-166.879594466087;\n",
      "net_value_up_down_rate             :-0.00586840813005436;\n",
      "eth_up_down_rate                   :-0.00905826946162838;\n",
      "position_fee_profit                :176.507722424505;\n",
      "position_fee_annualized_returns    :177.640497420638;\n",
      "position_market_time_rate          :0.5\n"
     ]
    },
    {
     "data": {
      "text/plain": "['./result/backtest-20231107-115437.account.csv',\n './result/backtest-20231107-115437.action.json',\n './result/backtest-20231107-115437.action.pkl']"
     },
     "execution_count": 5,
     "metadata": {},
     "output_type": "execute_result"
    }
   ],
   "source": [
    "actuator.run(evaluator=[\n",
    "        EvaluatorEnum.max_draw_down,\n",
    "        EvaluatorEnum.annualized_returns,\n",
    "        EvaluatorEnum.net_value,\n",
    "        EvaluatorEnum.profit,\n",
    "        EvaluatorEnum.net_value_up_down_rate,\n",
    "        EvaluatorEnum.eth_up_down_rate,\n",
    "        EvaluatorEnum.position_fee_profit,\n",
    "        EvaluatorEnum.position_fee_annualized_returns,\n",
    "        EvaluatorEnum.position_market_time_rate,\n",
    "    ])\n",
    "evaluating_result: Dict[EvaluatorEnum, Decimal] = actuator.evaluating_indicator\n",
    "\n",
    "actuator.save_result(\n",
    "    path=\"./result\",  # save path\n",
    "    account=True,  # save account status list as a csv file\n",
    "    actions=True,  # save actions as a json file and a pickle file\n",
    ")"
   ],
   "metadata": {
    "collapsed": false,
    "ExecuteTime": {
     "end_time": "2023-11-07T03:54:37.328104Z",
     "start_time": "2023-11-07T03:54:35.674673Z"
    }
   }
  }
 ],
 "metadata": {
  "kernelspec": {
   "display_name": "Python 3",
   "language": "python",
   "name": "python3"
  },
  "language_info": {
   "codemirror_mode": {
    "name": "ipython",
    "version": 2
   },
   "file_extension": ".py",
   "mimetype": "text/x-python",
   "name": "python",
   "nbconvert_exporter": "python",
   "pygments_lexer": "ipython2",
   "version": "2.7.6"
  }
 },
 "nbformat": 4,
 "nbformat_minor": 0
}
