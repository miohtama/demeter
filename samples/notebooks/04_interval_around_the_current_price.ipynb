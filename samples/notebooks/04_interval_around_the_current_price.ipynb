{
 "cells": [
  {
   "cell_type": "markdown",
   "source": [
    "# Interval Around the Current Price\n",
    "This strategy will provide liquidity around the current price in a fixed interval. We will rebalance our position every update interval as discussed in the beginning of chapter 4. Let pc be the current price and a ∈ [10, 40000], then we will set our position to [pc − a, pc + a] at every update interval.\n",
    "We will fill the interval as much as possible. However, it is usually not possible to use up both tokens, so the remaining token will be left outside the pool."
   ],
   "metadata": {
    "collapsed": false
   }
  },
  {
   "cell_type": "markdown",
   "source": [
    "Import code dependencies"
   ],
   "metadata": {
    "collapsed": false
   }
  },
  {
   "cell_type": "code",
   "execution_count": 14,
   "outputs": [],
   "source": [
    "from datetime import timedelta, date\n",
    "from typing import Dict\n",
    "from _decimal import Decimal\n",
    "import pandas as pd\n",
    "\n",
    "from demeter import TokenInfo, Actuator, ChainType, MarketInfo, Strategy, EvaluatorEnum, PeriodTrigger, RowData\n",
    "from demeter.uniswap import UniV3Pool, UniLpMarket"
   ],
   "metadata": {
    "collapsed": false,
    "ExecuteTime": {
     "end_time": "2023-11-07T06:42:30.068601Z",
     "start_time": "2023-11-07T06:42:30.023888Z"
    }
   }
  },
  {
   "cell_type": "markdown",
   "source": [
    "Set pandas output format"
   ],
   "metadata": {
    "collapsed": false
   }
  },
  {
   "cell_type": "code",
   "execution_count": 15,
   "outputs": [],
   "source": [
    "pd.options.display.max_columns = None\n",
    "pd.set_option(\"display.width\", 5000)"
   ],
   "metadata": {
    "collapsed": false,
    "ExecuteTime": {
     "end_time": "2023-11-07T06:42:30.069129Z",
     "start_time": "2023-11-07T06:42:30.043935Z"
    }
   }
  },
  {
   "cell_type": "markdown",
   "source": [
    "Custom Intervals Around the Current Price strategy to add liquidity at constant interval around current price."
   ],
   "metadata": {
    "collapsed": false
   }
  },
  {
   "cell_type": "code",
   "execution_count": 16,
   "outputs": [],
   "source": [
    "class IntervalsAroundtheCurrentPriceStrategy(Strategy):\n",
    "    def __init__(self, a=10, b=1, update_interval=timedelta(days=1)):\n",
    "        super().__init__()\n",
    "        self.a = a\n",
    "        self.b = b\n",
    "\n",
    "    def initialize(self):\n",
    "        lp_market: UniLpMarket = self.broker.markets[market_key]\n",
    "        current_price = lp_market.market_status.data.price\n",
    "\n",
    "        lp_market.add_liquidity(current_price - self.a, current_price + self.a)\n",
    "        self.triggers.append(PeriodTrigger(time_delta=timedelta(days=1), do=self.work))\n",
    "\n",
    "    def work(self, row_data: RowData):\n",
    "        lp_market: UniLpMarket = self.broker.markets[market_key]\n",
    "        current_price = row_data.prices[eth.name]\n",
    "        if len(lp_market.positions) > 0:\n",
    "            lp_market.remove_all_liquidity()\n",
    "            lp_market.even_rebalance(row_data.prices[eth.name])\n",
    "\n",
    "        lp_market.add_liquidity(current_price - self.a, current_price + self.a)"
   ],
   "metadata": {
    "collapsed": false,
    "ExecuteTime": {
     "end_time": "2023-11-07T06:42:30.082965Z",
     "start_time": "2023-11-07T06:42:30.066528Z"
    }
   }
  },
  {
   "cell_type": "markdown",
   "source": [
    "Main logic to run Actuator, init two token and market with key \"market1\""
   ],
   "metadata": {
    "collapsed": false
   }
  },
  {
   "cell_type": "code",
   "execution_count": 17,
   "outputs": [
    {
     "name": "stderr",
     "output_type": "stream",
     "text": [
      "2023-11-07 14:42:30,106 - INFO - start load files from 2023-08-13 to 2023-08-17...\n",
      "2023-11-07 14:42:30,238 - INFO - load file complete, preparing...\n",
      "2023-11-07 14:42:30,950 - INFO - data has been prepared\n"
     ]
    }
   ],
   "source": [
    "usdc = TokenInfo(name=\"usdc\", decimal=6)  # declare  token0\n",
    "eth = TokenInfo(name=\"eth\", decimal=18)  # declare token1\n",
    "pool = UniV3Pool(usdc, eth, 0.05, usdc)  # declare pool\n",
    "market_key = MarketInfo(\"market1\")\n",
    "\n",
    "actuator = Actuator()  # declare actuator\n",
    "broker = actuator.broker\n",
    "market = UniLpMarket(market_key, pool)\n",
    "\n",
    "broker.add_market(market)\n",
    "broker.set_balance(usdc, 1800)\n",
    "broker.set_balance(eth, 1)\n",
    "\n",
    "actuator.strategy = IntervalsAroundtheCurrentPriceStrategy(400, 200)\n",
    "\n",
    "market.data_path = \"../data\"\n",
    "market.load_data(ChainType.polygon.name, \"0x45dda9cb7c25131df268515131f647d726f50608\", date(2023, 8, 13), date(2023, 8, 17))\n",
    "actuator.set_price(market.get_price_from_data())\n",
    "# actuator.run()"
   ],
   "metadata": {
    "collapsed": false,
    "ExecuteTime": {
     "end_time": "2023-11-07T06:42:30.979080Z",
     "start_time": "2023-11-07T06:42:30.108929Z"
    }
   }
  },
  {
   "cell_type": "markdown",
   "source": [
    "Run actuator with evaluators and save result to files"
   ],
   "metadata": {
    "collapsed": false
   }
  },
  {
   "cell_type": "code",
   "execution_count": 18,
   "outputs": [
    {
     "name": "stderr",
     "output_type": "stream",
     "text": [
      "2023-11-07 14:42:30,985 - INFO - init strategy...\n",
      "2023-11-07 14:42:30,990 - INFO - start main loop...\n",
      "100%|████████████████████████████████████████████████████████████████████████████████████████████████████████████| 7200/7200 [00:09<00:00, 730.17it/s]\n",
      "2023-11-07 14:42:40,857 - INFO - main loop finished\n",
      "2023-11-07 14:42:40,943 - INFO - Start calculate evaluating indicator...\n",
      "2023-11-07 14:42:41,022 - INFO - Evaluating indicator has finished it's job.\n",
      "2023-11-07 14:42:41,023 - INFO - Print actuator summary\n",
      "2023-11-07 14:42:41,044 - INFO - Backtesting finished, execute time 10.059340000152588s\n",
      "2023-11-07 14:42:41,128 - INFO - files have saved to ./result/backtest-20231107-144241.account.csv,./result/backtest-20231107-144241.action.json,./result/backtest-20231107-144241.action.pkl\n"
     ]
    },
    {
     "name": "stdout",
     "output_type": "stream",
     "text": [
      "\u001B[7;31mFinal account status                              \u001B[0m\n",
      "\u001B[7;35mToken balance in broker       \u001B[0m\n",
      "\u001B[34mUSDC      \u001B[0m:0                        \u001B[34mETH       \u001B[0m:0.1900620350322878923504366033\n",
      "\u001B[7;35mPosition value in markets     \u001B[0m\n",
      "\u001B[4;33mmarket1(UniLpMarket)\u001B[0m\n",
      "\u001B[34mtoken0    \u001B[0m:USDC                     \u001B[34mtoken1    \u001B[0m:ETH                      \u001B[34mfee       \u001B[0m:0.0500                   \u001B[34mis 0 base \u001B[0m:True                     \n",
      "\u001B[34mpositions \u001B[0m\n",
      "   lower_tick  upper_tick                       pending0                          pending1        liquidity\n",
      "0      199327      203830  2.884224814133616078486391104  0.001859187691259130963917307917  360889513595323\n",
      "\n",
      "\u001B[7;31mAccount balance history                           \u001B[0m\n",
      "                                         net_value USDC                             ETH              market1_net_value       market1_base_uncollected         market1_quote_uncollected       market1_base_in_position       market1_quote_in_position  market1_position_count\n",
      "2023-08-13 00:00:00  3648.124528036339326191149432    0  0.2080628764642717689010486092  3263.598453943385466229065335                          0E-35  8.133248792183303912041458815E-8  1799.999999999996634396954582  0.7919371235357282310989513899                       1\n",
      "2023-08-13 00:01:00  3648.124528036339326191149432    0  0.2080628764642717689010486092  3263.598453943385466229065335                          0E-35  8.133248792183303912041458815E-8  1799.999999999996634396954582  0.7919371235357282310989513899                       1\n",
      "2023-08-13 00:02:00  3648.124528080163498526948140    0  0.2080628764642717689010486092  3263.598453987209638564864043                          0E-35  8.135620070483835503086659885E-8  1799.999999999996634396954582  0.7919371235357282310989513899                       1\n",
      "2023-08-13 00:03:00  3648.124538901318258923897454    0  0.2080628764642717689010486092  3263.598464808364398961813357                          0E-35  8.721140985138110039206882278E-8  1799.999999999996634396954582  0.7919371235357282310989513899                       1\n",
      "2023-08-13 00:04:00  3648.124560528128729930769764    0  0.2080628764642717689010486092  3263.598486435174869968685667                          0E-35  9.891344177719940779977410843E-8  1799.999999999996634396954582  0.7919371235357282310989513899                       1\n",
      "...                                            ...  ...                             ...                            ...                            ...                               ...                            ...                             ...                     ...\n",
      "2023-08-17 23:55:00  3471.399910326208834768739957    0  0.1900620350322878923504366033  3151.526132512931177721324882  2.879894032161323914821780537  0.001857455403315629936716787337  1269.473415761429766133406512   1.114706125722405493260129227                       1\n",
      "2023-08-17 23:56:00  3471.840182798497087391969844    0  0.1900620350322878923504366033  3151.902427030918996680368716  2.880483246428152333127776609  0.001857455403315629936716787337  1270.953941272476170296888414    1.11382651765601556563713555                       1\n",
      "2023-08-17 23:57:00  3471.843110543482379129165998    0  0.1900620350322878923504366033  3151.905354775904288417564869  2.880494973404414546466646466  0.001859187691259130963917307917  1270.953941272476170296888414    1.11382651765601556563713555                       1\n",
      "2023-08-17 23:58:00  3472.286316031801484215396172    0  0.1900620350322878923504366033  3152.284569513692320209871816  2.884224814133616078486391104  0.001859187691259130963917307917  1272.434614836073679100786671   1.112946997541637075863119271                       1\n",
      "2023-08-17 23:59:00  3472.286316031801484215396172    0  0.1900620350322878923504366033  3152.284569513692320209871816  2.884224814133616078486391104  0.001859187691259130963917307917  1272.434614836073679100786671   1.112946997541637075863119271                       1\n",
      "\n",
      "[7200 rows x 9 columns]\n",
      "Evaluating indicator\n",
      "max_draw_down                      :0.0863682850252102;\n",
      "annualized_returns                 :-0.972844979585869;\n",
      "net_value                          :0.951800420302090;\n",
      "profit                             :-175.838061691988;\n",
      "net_value_up_down_rate             :-0.0481995796979104;\n",
      "eth_up_down_rate                   :-0.0889844751418089;\n",
      "position_fee_profit                :4856.08465192867;\n",
      "position_fee_annualized_returns    :5341.87530431485;\n",
      "position_market_time_rate          :0.999861111111111\n"
     ]
    },
    {
     "data": {
      "text/plain": "['./result/backtest-20231107-144241.account.csv',\n './result/backtest-20231107-144241.action.json',\n './result/backtest-20231107-144241.action.pkl']"
     },
     "execution_count": 18,
     "metadata": {},
     "output_type": "execute_result"
    }
   ],
   "source": [
    "actuator.run(evaluator=[\n",
    "        EvaluatorEnum.max_draw_down,\n",
    "        EvaluatorEnum.annualized_returns,\n",
    "        EvaluatorEnum.net_value,\n",
    "        EvaluatorEnum.profit,\n",
    "        EvaluatorEnum.net_value_up_down_rate,\n",
    "        EvaluatorEnum.eth_up_down_rate,\n",
    "        EvaluatorEnum.position_fee_profit,\n",
    "        EvaluatorEnum.position_fee_annualized_returns,\n",
    "        EvaluatorEnum.position_market_time_rate,\n",
    "    ])\n",
    "evaluating_result: Dict[EvaluatorEnum, Decimal] = actuator.evaluating_indicator\n",
    "\n",
    "actuator.save_result(\n",
    "    path=\"./result\",  # save path\n",
    "    account=True,  # save account status list as a csv file\n",
    "    actions=True,  # save actions as a json file and a pickle file\n",
    ")"
   ],
   "metadata": {
    "collapsed": false,
    "ExecuteTime": {
     "end_time": "2023-11-07T06:42:41.143557Z",
     "start_time": "2023-11-07T06:42:30.987380Z"
    }
   }
  }
 ],
 "metadata": {
  "kernelspec": {
   "display_name": "Python 3",
   "language": "python",
   "name": "python3"
  },
  "language_info": {
   "codemirror_mode": {
    "name": "ipython",
    "version": 2
   },
   "file_extension": ".py",
   "mimetype": "text/x-python",
   "name": "python",
   "nbconvert_exporter": "python",
   "pygments_lexer": "ipython2",
   "version": "2.7.6"
  }
 },
 "nbformat": 4,
 "nbformat_minor": 0
}
