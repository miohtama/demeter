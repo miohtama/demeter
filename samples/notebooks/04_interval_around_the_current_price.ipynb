{
 "cells": [
  {
   "cell_type": "markdown",
   "source": [
    "# Interval Around the Current Price\n",
    "This strategy will provide liquidity around the current price in a fixed interval. We will rebalance our position every update interval as discussed in the beginning of chapter 4. Let pc be the current price and a ∈ [10, 40000], then we will set our position to [pc − a, pc + a] at every update interval.\n",
    "We will fill the interval as much as possible. However, it is usually not possible to use up both tokens, so the remaining token will be left outside the pool."
   ],
   "metadata": {
    "collapsed": false
   }
  },
  {
   "cell_type": "code",
   "execution_count": 1,
   "outputs": [],
   "source": [
    "from datetime import timedelta, date\n",
    "from typing import Dict\n",
    "from _decimal import Decimal\n",
    "import pandas as pd\n",
    "\n",
    "from demeter import TokenInfo, Actuator, ChainType, MarketInfo, Strategy, EvaluatorEnum\n",
    "from demeter.uniswap import UniV3Pool, UniLpMarket"
   ],
   "metadata": {
    "collapsed": false,
    "ExecuteTime": {
     "end_time": "2023-11-03T02:14:00.362585Z",
     "start_time": "2023-11-03T02:13:59.421902Z"
    }
   }
  },
  {
   "cell_type": "code",
   "execution_count": 2,
   "outputs": [],
   "source": [
    "pd.options.display.max_columns = None\n",
    "pd.set_option(\"display.width\", 5000)"
   ],
   "metadata": {
    "collapsed": false,
    "ExecuteTime": {
     "end_time": "2023-11-03T02:14:00.370520Z",
     "start_time": "2023-11-03T02:14:00.367235Z"
    }
   }
  },
  {
   "cell_type": "code",
   "execution_count": 3,
   "outputs": [],
   "source": [
    "class IntervalsAroundtheCurrentPrice(Strategy):\n",
    "    def __init__(self, a=10, b=1, update_interval=timedelta(days=1)):\n",
    "        super().__init__()\n",
    "        self.a = a\n",
    "        self.b = b\n",
    "\n",
    "    def initialize(self):\n",
    "        lp_market: UniLpMarket = self.broker.markets[market_key]\n",
    "        init_price = lp_market.market_status.data.price\n",
    "\n",
    "        lp_market.add_liquidity(init_price - self.a, init_price + self.a)"
   ],
   "metadata": {
    "collapsed": false,
    "ExecuteTime": {
     "end_time": "2023-11-03T02:14:00.378859Z",
     "start_time": "2023-11-03T02:14:00.373450Z"
    }
   }
  },
  {
   "cell_type": "code",
   "execution_count": 4,
   "outputs": [
    {
     "name": "stderr",
     "output_type": "stream",
     "text": [
      "2023-11-03 10:14:00,381 - INFO - start load files from 2023-08-13 to 2023-08-17...\n",
      "2023-11-03 10:14:00,440 - INFO - load file complete, preparing...\n",
      "2023-11-03 10:14:00,740 - INFO - data has been prepared\n"
     ]
    }
   ],
   "source": [
    "usdc = TokenInfo(name=\"usdc\", decimal=6)  # declare  token0\n",
    "eth = TokenInfo(name=\"eth\", decimal=18)  # declare token1\n",
    "pool = UniV3Pool(usdc, eth, 0.05, usdc)  # declare pool\n",
    "market_key = MarketInfo(\"market1\")\n",
    "\n",
    "actuator = Actuator()  # declare actuator\n",
    "broker = actuator.broker\n",
    "market = UniLpMarket(market_key, pool)\n",
    "\n",
    "broker.add_market(market)\n",
    "broker.set_balance(usdc, 2000)\n",
    "broker.set_balance(eth, 0)\n",
    "\n",
    "actuator.strategy = IntervalsAroundtheCurrentPrice(400, 200)\n",
    "\n",
    "market.data_path = \"../data\"\n",
    "market.load_data(ChainType.polygon.name, \"0x45dda9cb7c25131df268515131f647d726f50608\", date(2023, 8, 13), date(2023, 8, 17))\n",
    "actuator.set_price(market.get_price_from_data())\n",
    "# actuator.run()"
   ],
   "metadata": {
    "collapsed": false,
    "ExecuteTime": {
     "end_time": "2023-11-03T02:14:00.760929Z",
     "start_time": "2023-11-03T02:14:00.385928Z"
    }
   }
  },
  {
   "cell_type": "code",
   "execution_count": 5,
   "outputs": [
    {
     "name": "stderr",
     "output_type": "stream",
     "text": [
      "2023-11-03 10:14:00,766 - INFO - init strategy...\n",
      "2023-11-03 10:14:00,775 - INFO - start main loop...\n",
      "100%|███████████████████████████████████████████████████████████████████████████████████████████████████████████| 7200/7200 [00:04<00:00, 1612.50it/s]\n",
      "2023-11-03 10:14:05,278 - INFO - main loop finished\n",
      "2023-11-03 10:14:05,337 - INFO - Start calculate evaluating indicator...\n",
      "/Users/florije/PycharmProjects/demeter/demeter/core/evaluating_indicator.py:85: SettingWithCopyWarning: \n",
      "A value is trying to be set on a copy of a slice from a DataFrame\n",
      "\n",
      "See the caveats in the documentation: https://pandas.pydata.org/pandas-docs/stable/user_guide/indexing.html#returning-a-view-versus-a-copy\n",
      "  fee_df.sort_values(by=[\"market1_base_uncollected\", \"market1_quote_uncollected\"], ascending=[False, False], inplace=True)\n",
      "2023-11-03 10:14:05,376 - INFO - Evaluating indicator has finished it's job.\n",
      "2023-11-03 10:14:05,377 - INFO - Print actuator summary\n",
      "2023-11-03 10:14:05,388 - INFO - Backtesting finished, execute time 4.623516082763672s\n",
      "2023-11-03 10:14:05,441 - INFO - files have saved to ./result/backtest-20231103-101405.account.csv,./result/backtest-20231103-101405.action.json,./result/backtest-20231103-101405.action.pkl\n"
     ]
    },
    {
     "name": "stdout",
     "output_type": "stream",
     "text": [
      "\u001B[7;31mFinal account status                              \u001B[0m\n",
      "\u001B[7;35mToken balance in broker       \u001B[0m\n",
      "\u001B[34mUSDC      \u001B[0m:2000                     \u001B[34mETH       \u001B[0m:0                        \n",
      "\u001B[7;35mPosition value in markets     \u001B[0m\n",
      "\u001B[4;33mmarket1(UniLpMarket)\u001B[0m\n",
      "\u001B[34mtoken0    \u001B[0m:USDC                     \u001B[34mtoken1    \u001B[0m:ETH                      \u001B[34mfee       \u001B[0m:0.0500                   \u001B[34mis 0 base \u001B[0m:True                     \n",
      "\u001B[34mpositions \u001B[0m\n",
      "   lower_tick  upper_tick pending0 pending1  liquidity\n",
      "0      199141      203540    0E-10    0E-22          0\n",
      "\n",
      "\u001B[7;31mAccount balance history                           \u001B[0m\n",
      "                                         net_value  USDC ETH market1_net_value market1_base_uncollected market1_quote_uncollected market1_base_in_position market1_quote_in_position  market1_position_count\n",
      "2023-08-13 00:00:00  2000.000000000000000000000000  2000   0             0E-46                   0.0000                     0E-22                        0                         0                       1\n",
      "2023-08-13 00:01:00  2000.000000000000000000000000  2000   0             0E-46                   0.0000                     0E-22                        0                         0                       1\n",
      "2023-08-13 00:02:00  2000.000000000000000000000000  2000   0             0E-46                   0.0000                     0E-22                        0                         0                       1\n",
      "2023-08-13 00:03:00  2000.000000000000000000000000  2000   0             0E-46                   0.0000                     0E-22                        0                         0                       1\n",
      "2023-08-13 00:04:00  2000.000000000000000000000000  2000   0             0E-46                   0.0000                     0E-22                        0                         0                       1\n",
      "...                                            ...   ...  ..               ...                      ...                       ...                      ...                       ...                     ...\n",
      "2023-08-17 23:55:00  2000.000000000000000000000000  2000   0             0E-46                    0E-10                     0E-22                        0                         0                       1\n",
      "2023-08-17 23:56:00  2000.000000000000000000000000  2000   0             0E-46                    0E-10                     0E-22                        0                         0                       1\n",
      "2023-08-17 23:57:00  2000.000000000000000000000000  2000   0             0E-46                    0E-10                     0E-22                        0                         0                       1\n",
      "2023-08-17 23:58:00  2000.000000000000000000000000  2000   0             0E-46                    0E-10                     0E-22                        0                         0                       1\n",
      "2023-08-17 23:59:00  2000.000000000000000000000000  2000   0             0E-46                    0E-10                     0E-22                        0                         0                       1\n",
      "\n",
      "[7200 rows x 9 columns]\n",
      "Evaluating indicator\n",
      "max_draw_down:0; annualized_returns:0; net_value:1; profit:0E-24; net_value_up_down_rate:0; eth_up_down_rate:-0.08898447514180891167240456340; position_fee_profit:0E-28; position_fee_annualized_returns:0; position_market_time_rate:0\n"
     ]
    },
    {
     "data": {
      "text/plain": "['./result/backtest-20231103-101405.account.csv',\n './result/backtest-20231103-101405.action.json',\n './result/backtest-20231103-101405.action.pkl']"
     },
     "execution_count": 5,
     "metadata": {},
     "output_type": "execute_result"
    }
   ],
   "source": [
    "actuator.run(evaluator=[\n",
    "        EvaluatorEnum.max_draw_down,\n",
    "        EvaluatorEnum.annualized_returns,\n",
    "        EvaluatorEnum.net_value,\n",
    "        EvaluatorEnum.profit,\n",
    "        EvaluatorEnum.net_value_up_down_rate,\n",
    "        EvaluatorEnum.eth_up_down_rate,\n",
    "        EvaluatorEnum.position_fee_profit,\n",
    "        EvaluatorEnum.position_fee_annualized_returns,\n",
    "        EvaluatorEnum.position_market_time_rate,\n",
    "    ])\n",
    "evaluating_result: Dict[EvaluatorEnum, Decimal] = actuator.evaluating_indicator\n",
    "\n",
    "actuator.save_result(\n",
    "    path=\"./result\",  # save path\n",
    "    account=True,  # save account status list as a csv file\n",
    "    actions=True,  # save actions as a json file and a pickle file\n",
    ")"
   ],
   "metadata": {
    "collapsed": false,
    "ExecuteTime": {
     "end_time": "2023-11-03T02:14:05.461703Z",
     "start_time": "2023-11-03T02:14:00.772037Z"
    }
   }
  }
 ],
 "metadata": {
  "kernelspec": {
   "display_name": "Python 3",
   "language": "python",
   "name": "python3"
  },
  "language_info": {
   "codemirror_mode": {
    "name": "ipython",
    "version": 2
   },
   "file_extension": ".py",
   "mimetype": "text/x-python",
   "name": "python",
   "nbconvert_exporter": "python",
   "pygments_lexer": "ipython2",
   "version": "2.7.6"
  }
 },
 "nbformat": 4,
 "nbformat_minor": 0
}
